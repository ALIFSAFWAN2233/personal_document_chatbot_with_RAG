{
 "cells": [
  {
   "cell_type": "markdown",
   "metadata": {},
   "source": [
    "# TRYING/TESTING necessary libraries for document processing #\n"
   ]
  },
  {
   "cell_type": "markdown",
   "metadata": {},
   "source": []
  },
  {
   "cell_type": "markdown",
   "metadata": {},
   "source": [
    "## STEP 1: Reading and extracting texts from various document formats ##"
   ]
  },
  {
   "cell_type": "code",
   "execution_count": 5,
   "metadata": {},
   "outputs": [
    {
     "name": "stdout",
     "output_type": "stream",
     "text": [
      "Resolved Path: C:\\Users\\User\\Documents\\SideProject\\personal_doc_chatbot_with_RAG\\data\\raw_documents\\receipts\\train_ticket_receipt.pdf\n"
     ]
    }
   ],
   "source": [
    "from pathlib import Path\n",
    "file_path = Path(\"data/raw_documents/receipts/train_ticket_receipt.pdf\").resolve()\n",
    "print(\"Resolved Path:\", file_path)\n"
   ]
  },
  {
   "cell_type": "markdown",
   "metadata": {},
   "source": [
    "#### Extract from PDFs ####\n"
   ]
  },
  {
   "cell_type": "code",
   "execution_count": 6,
   "metadata": {},
   "outputs": [
    {
     "name": "stdout",
     "output_type": "stream",
     "text": [
      "Processing c:/Users/User/Documents/SideProject/personal_doc_chatbot_with_RAG/data/raw_documents/receipts/train_ticket_receipt.pdf...\n",
      "[                                        ] (0/2===================[====================                    ] (1/2===================[========================================] (2/2]\n",
      "# TAPAH ROAD - ANAK BUKIT\n",
      "\n",
      "\n",
      "### Berlepas / Departure:\n",
      "\n",
      "\n",
      "### Tiba / Arrival:\n",
      "\n",
      "\n",
      "### 16/11/2023 12:46 PM 16/11/2023 03:57 PM\n",
      "\n",
      " MUHAMMAD ALIF SAFWAN BIN SYAMSYUL SYAHAR - Adult\n",
      "\n",
      " xxxxxxxx0849\n",
      "\n",
      "\n",
      "#### MYR 46.00/DebitCard\n",
      "\n",
      " K231189695108 ** T231175999163 (Single)\n",
      "\n",
      "\n",
      "#### Online\n",
      "\n",
      "\n",
      "Airasia Ride Promo Code : KTMRIDE\n",
      "Sila berada di stesen 30 minit sebelum tren berlepas. Pintu pelepasan akan ditutup 5 minit sebelum waktu berlepas.\n",
      "\n",
      "Tertakluk kepada Akta Pengangkutan Awam Darat 2010 dan  Syarat Pengangkutan Penumpang.\n",
      "\n",
      "KTMB CALL CENTER +603-2267 1200\n",
      "\n",
      "\n",
      "### 9420\n",
      "\n",
      " EG9420\n",
      "\n",
      "###### Coach/Seat\n",
      "\n",
      "## C/5C\n",
      "\n",
      "###### Gold\n",
      "\n",
      "\n",
      "-----\n",
      "\n",
      "-----\n",
      "\n",
      "\n"
     ]
    }
   ],
   "source": [
    "# Reading and extracting texts from PDFs\n",
    "# by using PyMuPDF\n",
    "import pymupdf4llm\n",
    "\n",
    "#use ticket_train receipt as an example\n",
    "md_text = pymupdf4llm.to_markdown(\"c:/Users/User/Documents/SideProject/personal_doc_chatbot_with_RAG/data/raw_documents/receipts/train_ticket_receipt.pdf\")\n",
    "\n",
    "print(md_text)\n",
    "\n",
    "\n"
   ]
  },
  {
   "cell_type": "code",
   "execution_count": null,
   "metadata": {},
   "outputs": [],
   "source": [
    "#Save the extracted text into .md format file\n",
    "\n"
   ]
  },
  {
   "cell_type": "markdown",
   "metadata": {},
   "source": [
    "### Extract from scanned PDFs/images"
   ]
  },
  {
   "cell_type": "code",
   "execution_count": 1,
   "metadata": {},
   "outputs": [],
   "source": [
    "# Reading and extracting texts from scanned PDFs\n",
    "# By using easyOCR (en,ms)\n",
    "import easyocr\n",
    "from pdf2image import convert_from_path\n",
    "reader = easyocr.Reader(['en','ms'])\n"
   ]
  },
  {
   "cell_type": "code",
   "execution_count": 5,
   "metadata": {},
   "outputs": [
    {
     "name": "stdout",
     "output_type": "stream",
     "text": [
      "## Page1\n",
      "KEMENTERIAN PENDIDIKAN MALAYSIA\n",
      "MINISTRY OF EDUCATION MALAYSIA\n",
      "LEMBAGA PEPERIKSAAN\n",
      "EXAMINATIONS SYNDICATE\n",
      "Calon yang namanya tercatat di bawah telah menduduki peperiksaan Sijil Pelajaran Malaysia (SPM) dan\n",
      "layak dianugerahi\n",
      "SIJIL PELAJARAN MALAYSIA\n",
      "MUHAMMAD ALIF SAFWAN BIN SYAMSYUL SYAHAR\n",
      "020630-02-0849\n",
      "KC208A089\n",
      "SMK AGAMA KEDAH\n",
      "Mata Pelajaran\n",
      "Gred\n",
      "Subject\n",
      "Grade\n",
      "BAHASA MELAYU\n",
      "A\n",
      "(CEMERLANG TINGGI)\n",
      "BAHASA INGGERIS\n",
      "A\n",
      "(CEMERLANG TINGGI)\n",
      "PENDIDIKAN ISLAM\n",
      "A+\n",
      "(CEMERLANG TERTINGGI)\n",
      "SEJARAH\n",
      "A+\n",
      "(CEMERLANG TERTINGGI)\n",
      "MATHEMATICS\n",
      "A\n",
      "(CEMERLANG TINGGI)\n",
      "BAHASA ARAB\n",
      "B+ (KEPUJIAN TERTINGGI)\n",
      "ADDITIONAL MATHEMATICS\n",
      "C\n",
      "(KEPUJIAN)\n",
      "PHYSICS\n",
      "A-\n",
      "(CEMERLANG)\n",
      "CHEMISTRY\n",
      "A\n",
      "(CEMERLANG TINGGI)\n",
      "BIOLOGY\n",
      "A+\n",
      "(CEMERLANG TERTINGGI)\n",
      "HIFZ AL-QURAN\n",
      "B+ (KEPUJIAN TERTINGGI)\n",
      "MAHARAT AL-QURAN\n",
      "B+ (KEPUJIAN TERTINGGI)\n",
      "JUMLAH MATA PELAJARAN DUA BELAS\n",
      "PEPERIKSAAN TAHUN 2019\n",
      "Pengarah Peperiksaan\n",
      "Director of Examinations\n",
      "191258556\n",
      "Kementerian Pendidikan Malaysia\n",
      "A\n",
      "04845697\n",
      "Ministry of Education Malaysia\n",
      "2423\n",
      "iaur\n",
      "SebTaheh MuTu\n"
     ]
    }
   ],
   "source": [
    "\n",
    "poppler_path = r\"C:/Users/User/poppler-24.08.0/Library/bin\"\n",
    "pdf_path = \"C:/Users/User/Documents/SideProject/personal_doc_chatbot_with_RAG/data/raw_documents/personal_documents/spm_certificate.pdf\"\n",
    "import numpy as np\n",
    "images = convert_from_path(pdf_path,poppler_path=poppler_path)\n",
    "\n",
    "all_text = []\n",
    "# Process each page image directly\n",
    "for i, img in enumerate(images):\n",
    "    # Convert PIL image to NumPy array\n",
    "    img_np = np.array(img)\n",
    "\n",
    "    #read the text from image\n",
    "    text = reader.readtext(img_np, detail=0) #extracts the text \n",
    "    page_text = \"\\n\".join(text) #joins the text lines\n",
    "    all_text.append(f\"## Page{i+1}\\n{page_text}\") #format each page by including a title/number of pages\n",
    "\n",
    "markdown_text = \"\\n\\n\".join(all_text)\n",
    "print(markdown_text)\n",
    "    \n"
   ]
  },
  {
   "cell_type": "code",
   "execution_count": null,
   "metadata": {},
   "outputs": [],
   "source": [
    "# Save the extracted text into .md format"
   ]
  },
  {
   "cell_type": "code",
   "execution_count": null,
   "metadata": {},
   "outputs": [],
   "source": [
    "# Reading and extracting texts from .docx/.docs\n",
    "\n"
   ]
  },
  {
   "cell_type": "markdown",
   "metadata": {},
   "source": [
    "## STEP 2: Chunking the extracted text"
   ]
  },
  {
   "cell_type": "markdown",
   "metadata": {},
   "source": [
    "### Implement hybrid chunking (Split based on the headings of the markdown + fixed-length split )\n"
   ]
  },
  {
   "cell_type": "code",
   "execution_count": 9,
   "metadata": {},
   "outputs": [
    {
     "name": "stdout",
     "output_type": "stream",
     "text": [
      "<h1>TAPAH ROAD - ANAK BUKIT</h1>\n",
      "<h3>Berlepas / Departure:</h3>\n",
      "<h3>Tiba / Arrival:</h3>\n",
      "<h3>16/11/2023 12:46 PM 16/11/2023 03:57 PM</h3>\n",
      "<p>MUHAMMAD ALIF SAFWAN BIN SYAMSYUL SYAHAR - Adult</p>\n",
      "<p>xxxxxxxx0849</p>\n",
      "<h4>MYR 46.00/DebitCard</h4>\n",
      "<p>K231189695108 ** T231175999163 (Single)</p>\n",
      "<h4>Online</h4>\n",
      "<p>Airasia Ride Promo Code : KTMRIDE\n",
      "Sila berada di stesen 30 minit sebelum tren berlepas. Pintu pelepasan akan ditutup 5 minit sebelum waktu berlepas.</p>\n",
      "<p>Tertakluk kepada Akta Pengangkutan Awam Darat 2010 dan  Syarat Pengangkutan Penumpang.</p>\n",
      "<p>KTMB CALL CENTER +603-2267 1200</p>\n",
      "<h3>9420</h3>\n",
      "<p>EG9420</p>\n",
      "<h6>Coach/Seat</h6>\n",
      "<h2>C/5C</h2>\n",
      "<h6>Gold</h6>\n",
      "<hr />\n",
      "<hr />\n",
      "\n"
     ]
    }
   ],
   "source": [
    "# use the md_text as an example\n",
    "\n",
    "from markdown_it import MarkdownIt\n",
    "\n",
    "md = MarkdownIt() #initialize the library\n",
    "print(md.render(md_text))"
   ]
  },
  {
   "cell_type": "code",
   "execution_count": 8,
   "metadata": {},
   "outputs": [
    {
     "name": "stdout",
     "output_type": "stream",
     "text": [
      "Token(type='heading_open', tag='h1', nesting=1, attrs={}, map=[0, 1], level=0, children=None, content='', markup='#', info='', meta={}, block=True, hidden=False)\n",
      "\n",
      "Token(type='inline', tag='', nesting=0, attrs={}, map=[0, 1], level=1, children=[Token(type='text', tag='', nesting=0, attrs={}, map=None, level=0, children=None, content='TAPAH ROAD - ANAK BUKIT', markup='', info='', meta={}, block=False, hidden=False)], content='TAPAH ROAD - ANAK BUKIT', markup='', info='', meta={}, block=True, hidden=False)\n",
      "\n",
      "Token(type='heading_close', tag='h1', nesting=-1, attrs={}, map=None, level=0, children=None, content='', markup='#', info='', meta={}, block=True, hidden=False)\n",
      "\n",
      "Token(type='heading_open', tag='h3', nesting=1, attrs={}, map=[3, 4], level=0, children=None, content='', markup='###', info='', meta={}, block=True, hidden=False)\n",
      "\n",
      "Token(type='inline', tag='', nesting=0, attrs={}, map=[3, 4], level=1, children=[Token(type='text', tag='', nesting=0, attrs={}, map=None, level=0, children=None, content='Berlepas / Departure:', markup='', info='', meta={}, block=False, hidden=False)], content='Berlepas / Departure:', markup='', info='', meta={}, block=True, hidden=False)\n",
      "\n",
      "Token(type='heading_close', tag='h3', nesting=-1, attrs={}, map=None, level=0, children=None, content='', markup='###', info='', meta={}, block=True, hidden=False)\n",
      "\n",
      "Token(type='heading_open', tag='h3', nesting=1, attrs={}, map=[6, 7], level=0, children=None, content='', markup='###', info='', meta={}, block=True, hidden=False)\n",
      "\n",
      "Token(type='inline', tag='', nesting=0, attrs={}, map=[6, 7], level=1, children=[Token(type='text', tag='', nesting=0, attrs={}, map=None, level=0, children=None, content='Tiba / Arrival:', markup='', info='', meta={}, block=False, hidden=False)], content='Tiba / Arrival:', markup='', info='', meta={}, block=True, hidden=False)\n",
      "\n",
      "Token(type='heading_close', tag='h3', nesting=-1, attrs={}, map=None, level=0, children=None, content='', markup='###', info='', meta={}, block=True, hidden=False)\n",
      "\n",
      "Token(type='heading_open', tag='h3', nesting=1, attrs={}, map=[9, 10], level=0, children=None, content='', markup='###', info='', meta={}, block=True, hidden=False)\n",
      "\n",
      "Token(type='inline', tag='', nesting=0, attrs={}, map=[9, 10], level=1, children=[Token(type='text', tag='', nesting=0, attrs={}, map=None, level=0, children=None, content='16/11/2023 12:46 PM 16/11/2023 03:57 PM', markup='', info='', meta={}, block=False, hidden=False)], content='16/11/2023 12:46 PM 16/11/2023 03:57 PM', markup='', info='', meta={}, block=True, hidden=False)\n",
      "\n",
      "Token(type='heading_close', tag='h3', nesting=-1, attrs={}, map=None, level=0, children=None, content='', markup='###', info='', meta={}, block=True, hidden=False)\n",
      "\n",
      "Token(type='paragraph_open', tag='p', nesting=1, attrs={}, map=[11, 12], level=0, children=None, content='', markup='', info='', meta={}, block=True, hidden=False)\n",
      "\n",
      "Token(type='inline', tag='', nesting=0, attrs={}, map=[11, 12], level=1, children=[Token(type='text', tag='', nesting=0, attrs={}, map=None, level=0, children=None, content='MUHAMMAD ALIF SAFWAN BIN SYAMSYUL SYAHAR - Adult', markup='', info='', meta={}, block=False, hidden=False)], content='MUHAMMAD ALIF SAFWAN BIN SYAMSYUL SYAHAR - Adult', markup='', info='', meta={}, block=True, hidden=False)\n",
      "\n",
      "Token(type='paragraph_close', tag='p', nesting=-1, attrs={}, map=None, level=0, children=None, content='', markup='', info='', meta={}, block=True, hidden=False)\n",
      "\n",
      "Token(type='paragraph_open', tag='p', nesting=1, attrs={}, map=[13, 14], level=0, children=None, content='', markup='', info='', meta={}, block=True, hidden=False)\n",
      "\n",
      "Token(type='inline', tag='', nesting=0, attrs={}, map=[13, 14], level=1, children=[Token(type='text', tag='', nesting=0, attrs={}, map=None, level=0, children=None, content='xxxxxxxx0849', markup='', info='', meta={}, block=False, hidden=False)], content='xxxxxxxx0849', markup='', info='', meta={}, block=True, hidden=False)\n",
      "\n",
      "Token(type='paragraph_close', tag='p', nesting=-1, attrs={}, map=None, level=0, children=None, content='', markup='', info='', meta={}, block=True, hidden=False)\n",
      "\n",
      "Token(type='heading_open', tag='h4', nesting=1, attrs={}, map=[16, 17], level=0, children=None, content='', markup='####', info='', meta={}, block=True, hidden=False)\n",
      "\n",
      "Token(type='inline', tag='', nesting=0, attrs={}, map=[16, 17], level=1, children=[Token(type='text', tag='', nesting=0, attrs={}, map=None, level=0, children=None, content='MYR 46.00/DebitCard', markup='', info='', meta={}, block=False, hidden=False)], content='MYR 46.00/DebitCard', markup='', info='', meta={}, block=True, hidden=False)\n",
      "\n",
      "Token(type='heading_close', tag='h4', nesting=-1, attrs={}, map=None, level=0, children=None, content='', markup='####', info='', meta={}, block=True, hidden=False)\n",
      "\n",
      "Token(type='paragraph_open', tag='p', nesting=1, attrs={}, map=[18, 19], level=0, children=None, content='', markup='', info='', meta={}, block=True, hidden=False)\n",
      "\n",
      "Token(type='inline', tag='', nesting=0, attrs={}, map=[18, 19], level=1, children=[Token(type='text', tag='', nesting=0, attrs={}, map=None, level=0, children=None, content='K231189695108 ** T231175999163 (Single)', markup='', info='', meta={}, block=False, hidden=False)], content='K231189695108 ** T231175999163 (Single)', markup='', info='', meta={}, block=True, hidden=False)\n",
      "\n",
      "Token(type='paragraph_close', tag='p', nesting=-1, attrs={}, map=None, level=0, children=None, content='', markup='', info='', meta={}, block=True, hidden=False)\n",
      "\n",
      "Token(type='heading_open', tag='h4', nesting=1, attrs={}, map=[21, 22], level=0, children=None, content='', markup='####', info='', meta={}, block=True, hidden=False)\n",
      "\n",
      "Token(type='inline', tag='', nesting=0, attrs={}, map=[21, 22], level=1, children=[Token(type='text', tag='', nesting=0, attrs={}, map=None, level=0, children=None, content='Online', markup='', info='', meta={}, block=False, hidden=False)], content='Online', markup='', info='', meta={}, block=True, hidden=False)\n",
      "\n",
      "Token(type='heading_close', tag='h4', nesting=-1, attrs={}, map=None, level=0, children=None, content='', markup='####', info='', meta={}, block=True, hidden=False)\n",
      "\n",
      "Token(type='paragraph_open', tag='p', nesting=1, attrs={}, map=[24, 26], level=0, children=None, content='', markup='', info='', meta={}, block=True, hidden=False)\n",
      "\n",
      "Token(type='inline', tag='', nesting=0, attrs={}, map=[24, 26], level=1, children=[Token(type='text', tag='', nesting=0, attrs={}, map=None, level=0, children=None, content='Airasia Ride Promo Code : KTMRIDE', markup='', info='', meta={}, block=False, hidden=False), Token(type='softbreak', tag='br', nesting=0, attrs={}, map=None, level=0, children=None, content='', markup='', info='', meta={}, block=False, hidden=False), Token(type='text', tag='', nesting=0, attrs={}, map=None, level=0, children=None, content='Sila berada di stesen 30 minit sebelum tren berlepas. Pintu pelepasan akan ditutup 5 minit sebelum waktu berlepas.', markup='', info='', meta={}, block=False, hidden=False)], content='Airasia Ride Promo Code : KTMRIDE\\nSila berada di stesen 30 minit sebelum tren berlepas. Pintu pelepasan akan ditutup 5 minit sebelum waktu berlepas.', markup='', info='', meta={}, block=True, hidden=False)\n",
      "\n",
      "Token(type='paragraph_close', tag='p', nesting=-1, attrs={}, map=None, level=0, children=None, content='', markup='', info='', meta={}, block=True, hidden=False)\n",
      "\n",
      "Token(type='paragraph_open', tag='p', nesting=1, attrs={}, map=[27, 28], level=0, children=None, content='', markup='', info='', meta={}, block=True, hidden=False)\n",
      "\n",
      "Token(type='inline', tag='', nesting=0, attrs={}, map=[27, 28], level=1, children=[Token(type='text', tag='', nesting=0, attrs={}, map=None, level=0, children=None, content='Tertakluk kepada Akta Pengangkutan Awam Darat 2010 dan  Syarat Pengangkutan Penumpang.', markup='', info='', meta={}, block=False, hidden=False)], content='Tertakluk kepada Akta Pengangkutan Awam Darat 2010 dan  Syarat Pengangkutan Penumpang.', markup='', info='', meta={}, block=True, hidden=False)\n",
      "\n",
      "Token(type='paragraph_close', tag='p', nesting=-1, attrs={}, map=None, level=0, children=None, content='', markup='', info='', meta={}, block=True, hidden=False)\n",
      "\n",
      "Token(type='paragraph_open', tag='p', nesting=1, attrs={}, map=[29, 30], level=0, children=None, content='', markup='', info='', meta={}, block=True, hidden=False)\n",
      "\n",
      "Token(type='inline', tag='', nesting=0, attrs={}, map=[29, 30], level=1, children=[Token(type='text', tag='', nesting=0, attrs={}, map=None, level=0, children=None, content='KTMB CALL CENTER +603-2267 1200', markup='', info='', meta={}, block=False, hidden=False)], content='KTMB CALL CENTER +603-2267 1200', markup='', info='', meta={}, block=True, hidden=False)\n",
      "\n",
      "Token(type='paragraph_close', tag='p', nesting=-1, attrs={}, map=None, level=0, children=None, content='', markup='', info='', meta={}, block=True, hidden=False)\n",
      "\n",
      "Token(type='heading_open', tag='h3', nesting=1, attrs={}, map=[32, 33], level=0, children=None, content='', markup='###', info='', meta={}, block=True, hidden=False)\n",
      "\n",
      "Token(type='inline', tag='', nesting=0, attrs={}, map=[32, 33], level=1, children=[Token(type='text', tag='', nesting=0, attrs={}, map=None, level=0, children=None, content='9420', markup='', info='', meta={}, block=False, hidden=False)], content='9420', markup='', info='', meta={}, block=True, hidden=False)\n",
      "\n",
      "Token(type='heading_close', tag='h3', nesting=-1, attrs={}, map=None, level=0, children=None, content='', markup='###', info='', meta={}, block=True, hidden=False)\n",
      "\n",
      "Token(type='paragraph_open', tag='p', nesting=1, attrs={}, map=[34, 35], level=0, children=None, content='', markup='', info='', meta={}, block=True, hidden=False)\n",
      "\n",
      "Token(type='inline', tag='', nesting=0, attrs={}, map=[34, 35], level=1, children=[Token(type='text', tag='', nesting=0, attrs={}, map=None, level=0, children=None, content='EG9420', markup='', info='', meta={}, block=False, hidden=False)], content='EG9420', markup='', info='', meta={}, block=True, hidden=False)\n",
      "\n",
      "Token(type='paragraph_close', tag='p', nesting=-1, attrs={}, map=None, level=0, children=None, content='', markup='', info='', meta={}, block=True, hidden=False)\n",
      "\n",
      "Token(type='heading_open', tag='h6', nesting=1, attrs={}, map=[36, 37], level=0, children=None, content='', markup='######', info='', meta={}, block=True, hidden=False)\n",
      "\n",
      "Token(type='inline', tag='', nesting=0, attrs={}, map=[36, 37], level=1, children=[Token(type='text', tag='', nesting=0, attrs={}, map=None, level=0, children=None, content='Coach/Seat', markup='', info='', meta={}, block=False, hidden=False)], content='Coach/Seat', markup='', info='', meta={}, block=True, hidden=False)\n",
      "\n",
      "Token(type='heading_close', tag='h6', nesting=-1, attrs={}, map=None, level=0, children=None, content='', markup='######', info='', meta={}, block=True, hidden=False)\n",
      "\n",
      "Token(type='heading_open', tag='h2', nesting=1, attrs={}, map=[38, 39], level=0, children=None, content='', markup='##', info='', meta={}, block=True, hidden=False)\n",
      "\n",
      "Token(type='inline', tag='', nesting=0, attrs={}, map=[38, 39], level=1, children=[Token(type='text', tag='', nesting=0, attrs={}, map=None, level=0, children=None, content='C/5C', markup='', info='', meta={}, block=False, hidden=False)], content='C/5C', markup='', info='', meta={}, block=True, hidden=False)\n",
      "\n",
      "Token(type='heading_close', tag='h2', nesting=-1, attrs={}, map=None, level=0, children=None, content='', markup='##', info='', meta={}, block=True, hidden=False)\n",
      "\n",
      "Token(type='heading_open', tag='h6', nesting=1, attrs={}, map=[40, 41], level=0, children=None, content='', markup='######', info='', meta={}, block=True, hidden=False)\n",
      "\n",
      "Token(type='inline', tag='', nesting=0, attrs={}, map=[40, 41], level=1, children=[Token(type='text', tag='', nesting=0, attrs={}, map=None, level=0, children=None, content='Gold', markup='', info='', meta={}, block=False, hidden=False)], content='Gold', markup='', info='', meta={}, block=True, hidden=False)\n",
      "\n",
      "Token(type='heading_close', tag='h6', nesting=-1, attrs={}, map=None, level=0, children=None, content='', markup='######', info='', meta={}, block=True, hidden=False)\n",
      "\n",
      "Token(type='hr', tag='hr', nesting=0, attrs={}, map=[43, 44], level=0, children=None, content='', markup='------', info='', meta={}, block=True, hidden=False)\n",
      "\n",
      "Token(type='hr', tag='hr', nesting=0, attrs={}, map=[45, 46], level=0, children=None, content='', markup='------', info='', meta={}, block=True, hidden=False)\n",
      "\n"
     ]
    }
   ],
   "source": [
    "for token in md.parse(md_text):\n",
    "    print(token)\n",
    "    print()"
   ]
  },
  {
   "cell_type": "code",
   "execution_count": null,
   "metadata": {},
   "outputs": [
    {
     "name": "stdout",
     "output_type": "stream",
     "text": [
      "{'### 16/11/2023 12:46 PM 16/11/2023 03:57 PM': 'MUHAMMAD ALIF SAFWAN BIN SYAMSYUL SYAHAR - Adult\\nxxxxxxxx0849', '#### MYR 46.00/DebitCard': 'K231189695108 ** T231175999163 (Single)', '#### Online': 'Airasia Ride Promo Code : KTMRIDE\\nSila berada di stesen 30 minit sebelum tren berlepas. Pintu pelepasan akan ditutup 5 minit sebelum waktu berlepas.\\nTertakluk kepada Akta Pengangkutan Awam Darat 2010 dan  Syarat Pengangkutan Penumpang.\\nKTMB CALL CENTER +603-2267 1200', '### 9420': 'EG9420'}\n"
     ]
    }
   ],
   "source": [
    "from collections import defaultdict\n",
    "from pathlib import Path\n",
    "\n",
    "def split_markdown_by_headings(md_text):\n",
    "    md = MarkdownIt()  # Initialize Markdown parser\n",
    "    tokens = md.parse(md_text)  # Parse Markdown\n",
    "    sections = defaultdict(list)  # Store content based on headings / split content based on headings\n",
    "    \n",
    "    current_heading = \"No Heading\"  # Default if no heading at start\n",
    "\n",
    "    for token in tokens:\n",
    "        if token.type == \"heading_open\":  # Detect heading (h1, h2, h3, etc.)\n",
    "            level = int(token.tag[1])  # Extract heading level (1, 2, 3)\n",
    "            next_token = tokens[tokens.index(token) + 1]  # Get heading text\n",
    "            if next_token.type == \"inline\":\n",
    "                current_heading = f\"{'#' * level} {next_token.content}\"  # Format heading\n",
    "        \n",
    "        elif token.type == \"paragraph_open\":  # Detect paragraphs\n",
    "            next_token = tokens[tokens.index(token) + 1]\n",
    "            if next_token.type == \"inline\":\n",
    "                sections[current_heading].append(next_token.content)  # Store content under heading\n",
    "\n",
    "    # Convert dictionary values to strings\n",
    "    return {key: \"\\n\".join(value) for key, value in sections.items()}\n",
    "\n",
    "\n",
    "split_sections = split_markdown_by_headings(md_text)\n",
    "print(split_sections)\n",
    "\n"
   ]
  },
  {
   "cell_type": "code",
   "execution_count": null,
   "metadata": {},
   "outputs": [],
   "source": [
    "import nltk\n",
    "\n",
    "# for each sections, check if the tokens in a section is more than 512 tokens, divide the section into more subsetions by using NLTK\n",
    "\n",
    "# function to chunk the text if it has more than 512 tokens\n",
    "def chunk_text(text, max_tokens=512):\n",
    "    words = nltk.word_tokenize(text)\n",
    "    chunks = []\n",
    "\n",
    "    for i in range(0, len(words), max_tokens):\n",
    "        chunk_words = words[i: i + max_tokens]\n",
    "        chunk_text = \" \".join(chunk_words)\n",
    "        chunks.append(chunk_text)\n",
    "    return chunks\n",
    "    \n",
    "new_sections = {}\n",
    "\n",
    "\n",
    "for heading, content in split_sections.items():\n",
    "    tokens = nltk.word_tokenize(content)  # Count tokens in the content\n",
    "    \n",
    "    if len(tokens) > 512:\n",
    "        print(f\"Chunking '{heading}' as it has {len(tokens)} tokens...\")\n",
    "        chunked_subsections = chunk_text(content)  # Split content into 512-token chunks\n",
    "        \n",
    "        # Store each chunk under new subsections\n",
    "        for i, chunk in enumerate(chunked_subsections, start=1):\n",
    "            new_heading = f\"{heading} (Part {i})\"  # Create subheading\n",
    "            new_sections[new_heading] = chunk\n",
    "    else:\n",
    "        new_sections[heading] = content  # Keep original section\n",
    "    \n",
    "\n",
    "    print(new_sections.items())\n"
   ]
  }
 ],
 "metadata": {
  "kernelspec": {
   "display_name": "chatbot-project",
   "language": "python",
   "name": "python3"
  },
  "language_info": {
   "codemirror_mode": {
    "name": "ipython",
    "version": 3
   },
   "file_extension": ".py",
   "mimetype": "text/x-python",
   "name": "python",
   "nbconvert_exporter": "python",
   "pygments_lexer": "ipython3",
   "version": "3.12.7"
  }
 },
 "nbformat": 4,
 "nbformat_minor": 2
}
