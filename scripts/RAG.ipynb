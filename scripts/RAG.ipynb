{
 "cells": [
  {
   "cell_type": "markdown",
   "metadata": {},
   "source": [
    "# Implementation of Retrieval and Generation workflow"
   ]
  },
  {
   "cell_type": "markdown",
   "metadata": {},
   "source": [
    "### Step 1: setup the LLM model "
   ]
  },
  {
   "cell_type": "markdown",
   "metadata": {},
   "source": [
    "Criteria\n",
    "\n",
    "LLM of choice:\n",
    "1. llama 3.1/3.2\n",
    "2. deepseek r1 distill qwen 7b/ llama 8b\n",
    "\n",
    "May need to deploy the LLM online:\n",
    "1. Runpod\n",
    "2. Replicate\n",
    "3. OpenRouter"
   ]
  },
  {
   "cell_type": "code",
   "execution_count": 1,
   "metadata": {},
   "outputs": [
    {
     "name": "stderr",
     "output_type": "stream",
     "text": [
      "c:\\Users\\User\\Documents\\SideProject\\personal_document_chatbot_with_RAG\\venv\\Lib\\site-packages\\tqdm\\auto.py:21: TqdmWarning: IProgress not found. Please update jupyter and ipywidgets. See https://ipywidgets.readthedocs.io/en/stable/user_install.html\n",
      "  from .autonotebook import tqdm as notebook_tqdm\n"
     ]
    }
   ],
   "source": [
    "from transformers import AutoTokenizer, AutoModelForCausalLM\n",
    "import torch"
   ]
  },
  {
   "cell_type": "markdown",
   "metadata": {},
   "source": [
    "### Loading the model directly"
   ]
  },
  {
   "cell_type": "code",
   "execution_count": 2,
   "metadata": {},
   "outputs": [
    {
     "name": "stdout",
     "output_type": "stream",
     "text": [
      "Using device: cuda\n",
      "Loading model...\n"
     ]
    },
    {
     "name": "stderr",
     "output_type": "stream",
     "text": [
      "Loading checkpoint shards: 100%|██████████| 2/2 [00:08<00:00,  4.05s/it]\n"
     ]
    },
    {
     "name": "stdout",
     "output_type": "stream",
     "text": [
      "Model loaded successfully.\n"
     ]
    }
   ],
   "source": [
    "\n",
    "#Load model\n",
    "model_name = \"meta-llama/Llama-3.2-3B-Instruct\" #3B = 12GB\n",
    "#model_name = \"deepseek-ai/DeepSeek-R1-Distill-Llama-8B\"\n",
    "#model_name = \"deepseek-ai/DeepSeek-R1-Distill-Qwen-7B\" #7B parameter of BF16 = 13GB RAM needed # FP32 = 26GB RAM needed\n",
    "\n",
    "# Check if a GPU is available\n",
    "device = torch.device(\"cuda\" if torch.cuda.is_available() else \"cpu\")\n",
    "print(f\"Using device: {device}\")\n",
    "\n",
    "# Load model and tokenizer\n",
    "print(\"Loading model...\")\n",
    "tokenizer = AutoTokenizer.from_pretrained(model_name)\n",
    "model = AutoModelForCausalLM.from_pretrained(model_name, torch_dtype=torch.float16).to(device)\n",
    "print(\"Model loaded successfully.\")"
   ]
  },
  {
   "cell_type": "markdown",
   "metadata": {},
   "source": [
    "### Loading the model by using Pipeline"
   ]
  },
  {
   "cell_type": "code",
   "execution_count": null,
   "metadata": {},
   "outputs": [
    {
     "ename": "RuntimeError",
     "evalue": "Failed to import transformers.pipelines because of the following error (look up to see its traceback):\npartially initialized module 'torch._inductor' has no attribute 'custom_graph_pass' (most likely due to a circular import)",
     "output_type": "error",
     "traceback": [
      "\u001b[1;31m---------------------------------------------------------------------------\u001b[0m",
      "\u001b[1;31mAttributeError\u001b[0m                            Traceback (most recent call last)",
      "File \u001b[1;32mc:\\Users\\User\\Documents\\SideProject\\personal_document_chatbot_with_RAG\\venv\\Lib\\site-packages\\transformers\\utils\\import_utils.py:1817\u001b[0m, in \u001b[0;36m_LazyModule._get_module\u001b[1;34m(self, module_name)\u001b[0m\n\u001b[0;32m   1816\u001b[0m \u001b[38;5;28;01mtry\u001b[39;00m:\n\u001b[1;32m-> 1817\u001b[0m     \u001b[38;5;28;01mreturn\u001b[39;00m \u001b[43mimportlib\u001b[49m\u001b[38;5;241;43m.\u001b[39;49m\u001b[43mimport_module\u001b[49m\u001b[43m(\u001b[49m\u001b[38;5;124;43m\"\u001b[39;49m\u001b[38;5;124;43m.\u001b[39;49m\u001b[38;5;124;43m\"\u001b[39;49m\u001b[43m \u001b[49m\u001b[38;5;241;43m+\u001b[39;49m\u001b[43m \u001b[49m\u001b[43mmodule_name\u001b[49m\u001b[43m,\u001b[49m\u001b[43m \u001b[49m\u001b[38;5;28;43mself\u001b[39;49m\u001b[38;5;241;43m.\u001b[39;49m\u001b[38;5;18;43m__name__\u001b[39;49m\u001b[43m)\u001b[49m\n\u001b[0;32m   1818\u001b[0m \u001b[38;5;28;01mexcept\u001b[39;00m \u001b[38;5;167;01mException\u001b[39;00m \u001b[38;5;28;01mas\u001b[39;00m e:\n",
      "File \u001b[1;32m~\\Documents\\Python\\Lib\\importlib\\__init__.py:90\u001b[0m, in \u001b[0;36mimport_module\u001b[1;34m(name, package)\u001b[0m\n\u001b[0;32m     89\u001b[0m         level \u001b[38;5;241m+\u001b[39m\u001b[38;5;241m=\u001b[39m \u001b[38;5;241m1\u001b[39m\n\u001b[1;32m---> 90\u001b[0m \u001b[38;5;28;01mreturn\u001b[39;00m \u001b[43m_bootstrap\u001b[49m\u001b[38;5;241;43m.\u001b[39;49m\u001b[43m_gcd_import\u001b[49m\u001b[43m(\u001b[49m\u001b[43mname\u001b[49m\u001b[43m[\u001b[49m\u001b[43mlevel\u001b[49m\u001b[43m:\u001b[49m\u001b[43m]\u001b[49m\u001b[43m,\u001b[49m\u001b[43m \u001b[49m\u001b[43mpackage\u001b[49m\u001b[43m,\u001b[49m\u001b[43m \u001b[49m\u001b[43mlevel\u001b[49m\u001b[43m)\u001b[49m\n",
      "File \u001b[1;32m<frozen importlib._bootstrap>:1387\u001b[0m, in \u001b[0;36m_gcd_import\u001b[1;34m(name, package, level)\u001b[0m\n",
      "File \u001b[1;32m<frozen importlib._bootstrap>:1360\u001b[0m, in \u001b[0;36m_find_and_load\u001b[1;34m(name, import_)\u001b[0m\n",
      "File \u001b[1;32m<frozen importlib._bootstrap>:1331\u001b[0m, in \u001b[0;36m_find_and_load_unlocked\u001b[1;34m(name, import_)\u001b[0m\n",
      "File \u001b[1;32m<frozen importlib._bootstrap>:935\u001b[0m, in \u001b[0;36m_load_unlocked\u001b[1;34m(spec)\u001b[0m\n",
      "File \u001b[1;32m<frozen importlib._bootstrap_external>:995\u001b[0m, in \u001b[0;36mexec_module\u001b[1;34m(self, module)\u001b[0m\n",
      "File \u001b[1;32m<frozen importlib._bootstrap>:488\u001b[0m, in \u001b[0;36m_call_with_frames_removed\u001b[1;34m(f, *args, **kwds)\u001b[0m\n",
      "File \u001b[1;32mc:\\Users\\User\\Documents\\SideProject\\personal_document_chatbot_with_RAG\\venv\\Lib\\site-packages\\transformers\\pipelines\\__init__.py:26\u001b[0m\n\u001b[0;32m     25\u001b[0m \u001b[38;5;28;01mfrom\u001b[39;00m\u001b[38;5;250m \u001b[39m\u001b[38;5;21;01m.\u001b[39;00m\u001b[38;5;21;01m.\u001b[39;00m\u001b[38;5;21;01mfeature_extraction_utils\u001b[39;00m\u001b[38;5;250m \u001b[39m\u001b[38;5;28;01mimport\u001b[39;00m PreTrainedFeatureExtractor\n\u001b[1;32m---> 26\u001b[0m \u001b[38;5;28;01mfrom\u001b[39;00m\u001b[38;5;250m \u001b[39m\u001b[38;5;21;01m.\u001b[39;00m\u001b[38;5;21;01m.\u001b[39;00m\u001b[38;5;21;01mimage_processing_utils\u001b[39;00m\u001b[38;5;250m \u001b[39m\u001b[38;5;28;01mimport\u001b[39;00m BaseImageProcessor\n\u001b[0;32m     27\u001b[0m \u001b[38;5;28;01mfrom\u001b[39;00m\u001b[38;5;250m \u001b[39m\u001b[38;5;21;01m.\u001b[39;00m\u001b[38;5;21;01m.\u001b[39;00m\u001b[38;5;21;01mmodels\u001b[39;00m\u001b[38;5;21;01m.\u001b[39;00m\u001b[38;5;21;01mauto\u001b[39;00m\u001b[38;5;21;01m.\u001b[39;00m\u001b[38;5;21;01mconfiguration_auto\u001b[39;00m\u001b[38;5;250m \u001b[39m\u001b[38;5;28;01mimport\u001b[39;00m AutoConfig\n",
      "File \u001b[1;32mc:\\Users\\User\\Documents\\SideProject\\personal_document_chatbot_with_RAG\\venv\\Lib\\site-packages\\transformers\\image_processing_utils.py:21\u001b[0m\n\u001b[0;32m     20\u001b[0m \u001b[38;5;28;01mfrom\u001b[39;00m\u001b[38;5;250m \u001b[39m\u001b[38;5;21;01m.\u001b[39;00m\u001b[38;5;21;01mimage_processing_base\u001b[39;00m\u001b[38;5;250m \u001b[39m\u001b[38;5;28;01mimport\u001b[39;00m BatchFeature, ImageProcessingMixin\n\u001b[1;32m---> 21\u001b[0m \u001b[38;5;28;01mfrom\u001b[39;00m\u001b[38;5;250m \u001b[39m\u001b[38;5;21;01m.\u001b[39;00m\u001b[38;5;21;01mimage_transforms\u001b[39;00m\u001b[38;5;250m \u001b[39m\u001b[38;5;28;01mimport\u001b[39;00m center_crop, normalize, rescale\n\u001b[0;32m     22\u001b[0m \u001b[38;5;28;01mfrom\u001b[39;00m\u001b[38;5;250m \u001b[39m\u001b[38;5;21;01m.\u001b[39;00m\u001b[38;5;21;01mimage_utils\u001b[39;00m\u001b[38;5;250m \u001b[39m\u001b[38;5;28;01mimport\u001b[39;00m ChannelDimension\n",
      "File \u001b[1;32mc:\\Users\\User\\Documents\\SideProject\\personal_document_chatbot_with_RAG\\venv\\Lib\\site-packages\\transformers\\image_transforms.py:56\u001b[0m\n\u001b[0;32m     55\u001b[0m \u001b[38;5;28;01mif\u001b[39;00m is_torchvision_v2_available():\n\u001b[1;32m---> 56\u001b[0m     \u001b[38;5;28;01mfrom\u001b[39;00m\u001b[38;5;250m \u001b[39m\u001b[38;5;21;01mtorchvision\u001b[39;00m\u001b[38;5;21;01m.\u001b[39;00m\u001b[38;5;21;01mtransforms\u001b[39;00m\u001b[38;5;21;01m.\u001b[39;00m\u001b[38;5;21;01mv2\u001b[39;00m\u001b[38;5;250m \u001b[39m\u001b[38;5;28;01mimport\u001b[39;00m functional \u001b[38;5;28;01mas\u001b[39;00m F\n\u001b[0;32m     57\u001b[0m \u001b[38;5;28;01melif\u001b[39;00m is_torchvision_available():\n",
      "File \u001b[1;32mc:\\Users\\User\\Documents\\SideProject\\personal_document_chatbot_with_RAG\\venv\\Lib\\site-packages\\torchvision\\transforms\\v2\\__init__.py:3\u001b[0m\n\u001b[0;32m      1\u001b[0m \u001b[38;5;28;01mfrom\u001b[39;00m\u001b[38;5;250m \u001b[39m\u001b[38;5;21;01mtorchvision\u001b[39;00m\u001b[38;5;21;01m.\u001b[39;00m\u001b[38;5;21;01mtransforms\u001b[39;00m\u001b[38;5;250m \u001b[39m\u001b[38;5;28;01mimport\u001b[39;00m AutoAugmentPolicy, InterpolationMode  \u001b[38;5;66;03m# usort: skip\u001b[39;00m\n\u001b[1;32m----> 3\u001b[0m \u001b[38;5;28;01mfrom\u001b[39;00m\u001b[38;5;250m \u001b[39m\u001b[38;5;21;01m.\u001b[39;00m\u001b[38;5;250m \u001b[39m\u001b[38;5;28;01mimport\u001b[39;00m functional  \u001b[38;5;66;03m# usort: skip\u001b[39;00m\n\u001b[0;32m      5\u001b[0m \u001b[38;5;28;01mfrom\u001b[39;00m\u001b[38;5;250m \u001b[39m\u001b[38;5;21;01m.\u001b[39;00m\u001b[38;5;21;01m_transform\u001b[39;00m\u001b[38;5;250m \u001b[39m\u001b[38;5;28;01mimport\u001b[39;00m Transform  \u001b[38;5;66;03m# usort: skip\u001b[39;00m\n",
      "File \u001b[1;32mc:\\Users\\User\\Documents\\SideProject\\personal_document_chatbot_with_RAG\\venv\\Lib\\site-packages\\torchvision\\transforms\\v2\\functional\\__init__.py:3\u001b[0m\n\u001b[0;32m      1\u001b[0m \u001b[38;5;28;01mfrom\u001b[39;00m\u001b[38;5;250m \u001b[39m\u001b[38;5;21;01mtorchvision\u001b[39;00m\u001b[38;5;21;01m.\u001b[39;00m\u001b[38;5;21;01mtransforms\u001b[39;00m\u001b[38;5;250m \u001b[39m\u001b[38;5;28;01mimport\u001b[39;00m InterpolationMode  \u001b[38;5;66;03m# usort: skip\u001b[39;00m\n\u001b[1;32m----> 3\u001b[0m \u001b[38;5;28;01mfrom\u001b[39;00m\u001b[38;5;250m \u001b[39m\u001b[38;5;21;01m.\u001b[39;00m\u001b[38;5;21;01m_utils\u001b[39;00m\u001b[38;5;250m \u001b[39m\u001b[38;5;28;01mimport\u001b[39;00m is_pure_tensor, register_kernel  \u001b[38;5;66;03m# usort: skip\u001b[39;00m\n\u001b[0;32m      5\u001b[0m \u001b[38;5;28;01mfrom\u001b[39;00m\u001b[38;5;250m \u001b[39m\u001b[38;5;21;01m.\u001b[39;00m\u001b[38;5;21;01m_meta\u001b[39;00m\u001b[38;5;250m \u001b[39m\u001b[38;5;28;01mimport\u001b[39;00m (\n\u001b[0;32m      6\u001b[0m     clamp_bounding_boxes,\n\u001b[0;32m      7\u001b[0m     convert_bounding_box_format,\n\u001b[1;32m   (...)\u001b[0m\n\u001b[0;32m     21\u001b[0m     get_size,\n\u001b[0;32m     22\u001b[0m )  \u001b[38;5;66;03m# usort: skip\u001b[39;00m\n",
      "File \u001b[1;32mc:\\Users\\User\\Documents\\SideProject\\personal_document_chatbot_with_RAG\\venv\\Lib\\site-packages\\torchvision\\transforms\\v2\\functional\\_utils.py:5\u001b[0m\n\u001b[0;32m      4\u001b[0m \u001b[38;5;28;01mimport\u001b[39;00m\u001b[38;5;250m \u001b[39m\u001b[38;5;21;01mtorch\u001b[39;00m\n\u001b[1;32m----> 5\u001b[0m \u001b[38;5;28;01mfrom\u001b[39;00m\u001b[38;5;250m \u001b[39m\u001b[38;5;21;01mtorchvision\u001b[39;00m\u001b[38;5;250m \u001b[39m\u001b[38;5;28;01mimport\u001b[39;00m tv_tensors\n\u001b[0;32m      7\u001b[0m _FillType \u001b[38;5;241m=\u001b[39m Union[\u001b[38;5;28mint\u001b[39m, \u001b[38;5;28mfloat\u001b[39m, Sequence[\u001b[38;5;28mint\u001b[39m], Sequence[\u001b[38;5;28mfloat\u001b[39m], \u001b[38;5;28;01mNone\u001b[39;00m]\n",
      "File \u001b[1;32mc:\\Users\\User\\Documents\\SideProject\\personal_document_chatbot_with_RAG\\venv\\Lib\\site-packages\\torchvision\\__init__.py:10\u001b[0m\n\u001b[0;32m      9\u001b[0m \u001b[38;5;28;01mfrom\u001b[39;00m\u001b[38;5;250m \u001b[39m\u001b[38;5;21;01m.\u001b[39;00m\u001b[38;5;21;01mextension\u001b[39;00m\u001b[38;5;250m \u001b[39m\u001b[38;5;28;01mimport\u001b[39;00m _HAS_OPS  \u001b[38;5;66;03m# usort:skip\u001b[39;00m\n\u001b[1;32m---> 10\u001b[0m \u001b[38;5;28;01mfrom\u001b[39;00m\u001b[38;5;250m \u001b[39m\u001b[38;5;21;01mtorchvision\u001b[39;00m\u001b[38;5;250m \u001b[39m\u001b[38;5;28;01mimport\u001b[39;00m _meta_registrations, datasets, io, models, ops, transforms, utils  \u001b[38;5;66;03m# usort:skip\u001b[39;00m\n\u001b[0;32m     12\u001b[0m \u001b[38;5;28;01mtry\u001b[39;00m:\n",
      "File \u001b[1;32mc:\\Users\\User\\Documents\\SideProject\\personal_document_chatbot_with_RAG\\venv\\Lib\\site-packages\\torchvision\\models\\__init__.py:2\u001b[0m\n\u001b[0;32m      1\u001b[0m \u001b[38;5;28;01mfrom\u001b[39;00m\u001b[38;5;250m \u001b[39m\u001b[38;5;21;01m.\u001b[39;00m\u001b[38;5;21;01malexnet\u001b[39;00m\u001b[38;5;250m \u001b[39m\u001b[38;5;28;01mimport\u001b[39;00m \u001b[38;5;241m*\u001b[39m\n\u001b[1;32m----> 2\u001b[0m \u001b[38;5;28;01mfrom\u001b[39;00m\u001b[38;5;250m \u001b[39m\u001b[38;5;21;01m.\u001b[39;00m\u001b[38;5;21;01mconvnext\u001b[39;00m\u001b[38;5;250m \u001b[39m\u001b[38;5;28;01mimport\u001b[39;00m \u001b[38;5;241m*\u001b[39m\n\u001b[0;32m      3\u001b[0m \u001b[38;5;28;01mfrom\u001b[39;00m\u001b[38;5;250m \u001b[39m\u001b[38;5;21;01m.\u001b[39;00m\u001b[38;5;21;01mdensenet\u001b[39;00m\u001b[38;5;250m \u001b[39m\u001b[38;5;28;01mimport\u001b[39;00m \u001b[38;5;241m*\u001b[39m\n",
      "File \u001b[1;32mc:\\Users\\User\\Documents\\SideProject\\personal_document_chatbot_with_RAG\\venv\\Lib\\site-packages\\torchvision\\models\\convnext.py:9\u001b[0m\n\u001b[0;32m      8\u001b[0m \u001b[38;5;28;01mfrom\u001b[39;00m\u001b[38;5;250m \u001b[39m\u001b[38;5;21;01m.\u001b[39;00m\u001b[38;5;21;01m.\u001b[39;00m\u001b[38;5;21;01mops\u001b[39;00m\u001b[38;5;21;01m.\u001b[39;00m\u001b[38;5;21;01mmisc\u001b[39;00m\u001b[38;5;250m \u001b[39m\u001b[38;5;28;01mimport\u001b[39;00m Conv2dNormActivation, Permute\n\u001b[1;32m----> 9\u001b[0m \u001b[38;5;28;01mfrom\u001b[39;00m\u001b[38;5;250m \u001b[39m\u001b[38;5;21;01m.\u001b[39;00m\u001b[38;5;21;01m.\u001b[39;00m\u001b[38;5;21;01mops\u001b[39;00m\u001b[38;5;21;01m.\u001b[39;00m\u001b[38;5;21;01mstochastic_depth\u001b[39;00m\u001b[38;5;250m \u001b[39m\u001b[38;5;28;01mimport\u001b[39;00m StochasticDepth\n\u001b[0;32m     10\u001b[0m \u001b[38;5;28;01mfrom\u001b[39;00m\u001b[38;5;250m \u001b[39m\u001b[38;5;21;01m.\u001b[39;00m\u001b[38;5;21;01m.\u001b[39;00m\u001b[38;5;21;01mtransforms\u001b[39;00m\u001b[38;5;21;01m.\u001b[39;00m\u001b[38;5;21;01m_presets\u001b[39;00m\u001b[38;5;250m \u001b[39m\u001b[38;5;28;01mimport\u001b[39;00m ImageClassification\n",
      "File \u001b[1;32mc:\\Users\\User\\Documents\\SideProject\\personal_document_chatbot_with_RAG\\venv\\Lib\\site-packages\\torchvision\\ops\\__init__.py:23\u001b[0m\n\u001b[0;32m     22\u001b[0m \u001b[38;5;28;01mfrom\u001b[39;00m\u001b[38;5;250m \u001b[39m\u001b[38;5;21;01m.\u001b[39;00m\u001b[38;5;21;01mmisc\u001b[39;00m\u001b[38;5;250m \u001b[39m\u001b[38;5;28;01mimport\u001b[39;00m Conv2dNormActivation, Conv3dNormActivation, FrozenBatchNorm2d, MLP, Permute, SqueezeExcitation\n\u001b[1;32m---> 23\u001b[0m \u001b[38;5;28;01mfrom\u001b[39;00m\u001b[38;5;250m \u001b[39m\u001b[38;5;21;01m.\u001b[39;00m\u001b[38;5;21;01mpoolers\u001b[39;00m\u001b[38;5;250m \u001b[39m\u001b[38;5;28;01mimport\u001b[39;00m MultiScaleRoIAlign\n\u001b[0;32m     24\u001b[0m \u001b[38;5;28;01mfrom\u001b[39;00m\u001b[38;5;250m \u001b[39m\u001b[38;5;21;01m.\u001b[39;00m\u001b[38;5;21;01mps_roi_align\u001b[39;00m\u001b[38;5;250m \u001b[39m\u001b[38;5;28;01mimport\u001b[39;00m ps_roi_align, PSRoIAlign\n",
      "File \u001b[1;32mc:\\Users\\User\\Documents\\SideProject\\personal_document_chatbot_with_RAG\\venv\\Lib\\site-packages\\torchvision\\ops\\poolers.py:10\u001b[0m\n\u001b[0;32m      9\u001b[0m \u001b[38;5;28;01mfrom\u001b[39;00m\u001b[38;5;250m \u001b[39m\u001b[38;5;21;01m.\u001b[39;00m\u001b[38;5;21;01m.\u001b[39;00m\u001b[38;5;21;01mutils\u001b[39;00m\u001b[38;5;250m \u001b[39m\u001b[38;5;28;01mimport\u001b[39;00m _log_api_usage_once\n\u001b[1;32m---> 10\u001b[0m \u001b[38;5;28;01mfrom\u001b[39;00m\u001b[38;5;250m \u001b[39m\u001b[38;5;21;01m.\u001b[39;00m\u001b[38;5;21;01mroi_align\u001b[39;00m\u001b[38;5;250m \u001b[39m\u001b[38;5;28;01mimport\u001b[39;00m roi_align\n\u001b[0;32m     13\u001b[0m \u001b[38;5;66;03m# copying result_idx_in_level to a specific index in result[]\u001b[39;00m\n\u001b[0;32m     14\u001b[0m \u001b[38;5;66;03m# is not supported by ONNX tracing yet.\u001b[39;00m\n\u001b[0;32m     15\u001b[0m \u001b[38;5;66;03m# _onnx_merge_levels() is an implementation supported by ONNX\u001b[39;00m\n\u001b[0;32m     16\u001b[0m \u001b[38;5;66;03m# that merges the levels to the right indices\u001b[39;00m\n",
      "File \u001b[1;32mc:\\Users\\User\\Documents\\SideProject\\personal_document_chatbot_with_RAG\\venv\\Lib\\site-packages\\torchvision\\ops\\roi_align.py:7\u001b[0m\n\u001b[0;32m      6\u001b[0m \u001b[38;5;28;01mfrom\u001b[39;00m\u001b[38;5;250m \u001b[39m\u001b[38;5;21;01mtorch\u001b[39;00m\u001b[38;5;250m \u001b[39m\u001b[38;5;28;01mimport\u001b[39;00m nn, Tensor\n\u001b[1;32m----> 7\u001b[0m \u001b[38;5;28;01mfrom\u001b[39;00m\u001b[38;5;250m \u001b[39m\u001b[38;5;21;01mtorch\u001b[39;00m\u001b[38;5;21;01m.\u001b[39;00m\u001b[38;5;21;01m_dynamo\u001b[39;00m\u001b[38;5;21;01m.\u001b[39;00m\u001b[38;5;21;01mutils\u001b[39;00m\u001b[38;5;250m \u001b[39m\u001b[38;5;28;01mimport\u001b[39;00m is_compile_supported\n\u001b[0;32m      8\u001b[0m \u001b[38;5;28;01mfrom\u001b[39;00m\u001b[38;5;250m \u001b[39m\u001b[38;5;21;01mtorch\u001b[39;00m\u001b[38;5;21;01m.\u001b[39;00m\u001b[38;5;21;01mjit\u001b[39;00m\u001b[38;5;21;01m.\u001b[39;00m\u001b[38;5;21;01mannotations\u001b[39;00m\u001b[38;5;250m \u001b[39m\u001b[38;5;28;01mimport\u001b[39;00m BroadcastingList2\n",
      "File \u001b[1;32mc:\\Users\\User\\Documents\\SideProject\\personal_document_chatbot_with_RAG\\venv\\Lib\\site-packages\\torch\\_dynamo\\__init__.py:3\u001b[0m\n\u001b[0;32m      1\u001b[0m \u001b[38;5;28;01mimport\u001b[39;00m\u001b[38;5;250m \u001b[39m\u001b[38;5;21;01mtorch\u001b[39;00m\n\u001b[1;32m----> 3\u001b[0m \u001b[38;5;28;01mfrom\u001b[39;00m\u001b[38;5;250m \u001b[39m\u001b[38;5;21;01m.\u001b[39;00m\u001b[38;5;250m \u001b[39m\u001b[38;5;28;01mimport\u001b[39;00m convert_frame, eval_frame, resume_execution\n\u001b[0;32m      4\u001b[0m \u001b[38;5;28;01mfrom\u001b[39;00m\u001b[38;5;250m \u001b[39m\u001b[38;5;21;01m.\u001b[39;00m\u001b[38;5;21;01mbackends\u001b[39;00m\u001b[38;5;21;01m.\u001b[39;00m\u001b[38;5;21;01mregistry\u001b[39;00m\u001b[38;5;250m \u001b[39m\u001b[38;5;28;01mimport\u001b[39;00m list_backends, lookup_backend, register_backend\n",
      "File \u001b[1;32mc:\\Users\\User\\Documents\\SideProject\\personal_document_chatbot_with_RAG\\venv\\Lib\\site-packages\\torch\\_dynamo\\convert_frame.py:33\u001b[0m\n\u001b[0;32m     32\u001b[0m \u001b[38;5;28;01mfrom\u001b[39;00m\u001b[38;5;250m \u001b[39m\u001b[38;5;21;01mtorch\u001b[39;00m\u001b[38;5;21;01m.\u001b[39;00m\u001b[38;5;21;01m_dynamo\u001b[39;00m\u001b[38;5;21;01m.\u001b[39;00m\u001b[38;5;21;01mdistributed\u001b[39;00m\u001b[38;5;250m \u001b[39m\u001b[38;5;28;01mimport\u001b[39;00m get_compile_pg\n\u001b[1;32m---> 33\u001b[0m \u001b[38;5;28;01mfrom\u001b[39;00m\u001b[38;5;250m \u001b[39m\u001b[38;5;21;01mtorch\u001b[39;00m\u001b[38;5;21;01m.\u001b[39;00m\u001b[38;5;21;01m_dynamo\u001b[39;00m\u001b[38;5;21;01m.\u001b[39;00m\u001b[38;5;21;01msymbolic_convert\u001b[39;00m\u001b[38;5;250m \u001b[39m\u001b[38;5;28;01mimport\u001b[39;00m TensorifyState\n\u001b[0;32m     34\u001b[0m \u001b[38;5;28;01mfrom\u001b[39;00m\u001b[38;5;250m \u001b[39m\u001b[38;5;21;01mtorch\u001b[39;00m\u001b[38;5;21;01m.\u001b[39;00m\u001b[38;5;21;01m_guards\u001b[39;00m\u001b[38;5;250m \u001b[39m\u001b[38;5;28;01mimport\u001b[39;00m compile_context, CompileContext, CompileId, tracing\n",
      "File \u001b[1;32mc:\\Users\\User\\Documents\\SideProject\\personal_document_chatbot_with_RAG\\venv\\Lib\\site-packages\\torch\\_dynamo\\symbolic_convert.py:27\u001b[0m\n\u001b[0;32m     26\u001b[0m \u001b[38;5;28;01mimport\u001b[39;00m\u001b[38;5;250m \u001b[39m\u001b[38;5;21;01mtorch\u001b[39;00m\u001b[38;5;21;01m.\u001b[39;00m\u001b[38;5;21;01m_logging\u001b[39;00m\n\u001b[1;32m---> 27\u001b[0m \u001b[38;5;28;01mfrom\u001b[39;00m\u001b[38;5;250m \u001b[39m\u001b[38;5;21;01mtorch\u001b[39;00m\u001b[38;5;21;01m.\u001b[39;00m\u001b[38;5;21;01m_dynamo\u001b[39;00m\u001b[38;5;21;01m.\u001b[39;00m\u001b[38;5;21;01mexc\u001b[39;00m\u001b[38;5;250m \u001b[39m\u001b[38;5;28;01mimport\u001b[39;00m TensorifyScalarRestartAnalysis\n\u001b[0;32m     28\u001b[0m \u001b[38;5;28;01mfrom\u001b[39;00m\u001b[38;5;250m \u001b[39m\u001b[38;5;21;01mtorch\u001b[39;00m\u001b[38;5;21;01m.\u001b[39;00m\u001b[38;5;21;01m_guards\u001b[39;00m\u001b[38;5;250m \u001b[39m\u001b[38;5;28;01mimport\u001b[39;00m tracing, TracingContext\n",
      "File \u001b[1;32mc:\\Users\\User\\Documents\\SideProject\\personal_document_chatbot_with_RAG\\venv\\Lib\\site-packages\\torch\\_dynamo\\exc.py:11\u001b[0m\n\u001b[0;32m     10\u001b[0m \u001b[38;5;28;01mfrom\u001b[39;00m\u001b[38;5;250m \u001b[39m\u001b[38;5;21;01m.\u001b[39;00m\u001b[38;5;250m \u001b[39m\u001b[38;5;28;01mimport\u001b[39;00m config\n\u001b[1;32m---> 11\u001b[0m \u001b[38;5;28;01mfrom\u001b[39;00m\u001b[38;5;250m \u001b[39m\u001b[38;5;21;01m.\u001b[39;00m\u001b[38;5;21;01mutils\u001b[39;00m\u001b[38;5;250m \u001b[39m\u001b[38;5;28;01mimport\u001b[39;00m counters\n\u001b[0;32m     14\u001b[0m \u001b[38;5;28;01mif\u001b[39;00m TYPE_CHECKING:\n",
      "File \u001b[1;32mc:\\Users\\User\\Documents\\SideProject\\personal_document_chatbot_with_RAG\\venv\\Lib\\site-packages\\torch\\_dynamo\\utils.py:65\u001b[0m\n\u001b[0;32m     64\u001b[0m \u001b[38;5;28;01mimport\u001b[39;00m\u001b[38;5;250m \u001b[39m\u001b[38;5;21;01mtorch\u001b[39;00m\n\u001b[1;32m---> 65\u001b[0m \u001b[38;5;28;01mimport\u001b[39;00m\u001b[38;5;250m \u001b[39m\u001b[38;5;21;01mtorch\u001b[39;00m\u001b[38;5;21;01m.\u001b[39;00m\u001b[38;5;21;01m_functorch\u001b[39;00m\u001b[38;5;21;01m.\u001b[39;00m\u001b[38;5;21;01mconfig\u001b[39;00m\n\u001b[0;32m     66\u001b[0m \u001b[38;5;28;01mimport\u001b[39;00m\u001b[38;5;250m \u001b[39m\u001b[38;5;21;01mtorch\u001b[39;00m\u001b[38;5;21;01m.\u001b[39;00m\u001b[38;5;21;01mfx\u001b[39;00m\u001b[38;5;21;01m.\u001b[39;00m\u001b[38;5;21;01mexperimental\u001b[39;00m\u001b[38;5;21;01m.\u001b[39;00m\u001b[38;5;21;01msymbolic_shapes\u001b[39;00m\n",
      "File \u001b[1;32mc:\\Users\\User\\Documents\\SideProject\\personal_document_chatbot_with_RAG\\venv\\Lib\\site-packages\\torch\\_functorch\\config.py:66\u001b[0m\n\u001b[0;32m     50\u001b[0m \u001b[38;5;66;03m# When AOTAutograd regenerates aliased graph outputs,\u001b[39;00m\n\u001b[0;32m     51\u001b[0m \u001b[38;5;66;03m# attempt to use functionalization's view-replay logic\u001b[39;00m\n\u001b[0;32m     52\u001b[0m \u001b[38;5;66;03m# before falling back to the autograd engine's view replay or as_strided.\u001b[39;00m\n\u001b[1;32m   (...)\u001b[0m\n\u001b[0;32m     64\u001b[0m \u001b[38;5;66;03m# once XLA pin update works,\u001b[39;00m\n\u001b[0;32m     65\u001b[0m \u001b[38;5;66;03m# or default config to true and fix relevant bugs\u001b[39;00m\n\u001b[1;32m---> 66\u001b[0m \u001b[38;5;28;01mfrom\u001b[39;00m\u001b[38;5;250m \u001b[39m\u001b[38;5;21;01mtorch\u001b[39;00m\u001b[38;5;21;01m.\u001b[39;00m\u001b[38;5;21;01m_inductor\u001b[39;00m\u001b[38;5;21;01m.\u001b[39;00m\u001b[38;5;21;01mconfig\u001b[39;00m\u001b[38;5;250m \u001b[39m\u001b[38;5;28;01mimport\u001b[39;00m is_fbcode\n\u001b[0;32m     69\u001b[0m \u001b[38;5;66;03m# View replay is currently not compatible with AOTAutogradCache, since\u001b[39;00m\n\u001b[0;32m     70\u001b[0m \u001b[38;5;66;03m# FunctionalTensors are not serializable. We'll need to make them\u001b[39;00m\n\u001b[0;32m     71\u001b[0m \u001b[38;5;66;03m# serializable before enabling warm cache with this config turned on.\u001b[39;00m\n",
      "File \u001b[1;32mc:\\Users\\User\\Documents\\SideProject\\personal_document_chatbot_with_RAG\\venv\\Lib\\site-packages\\torch\\_inductor\\__init__.py:9\u001b[0m\n\u001b[0;32m      7\u001b[0m \u001b[38;5;28;01mfrom\u001b[39;00m\u001b[38;5;250m \u001b[39m\u001b[38;5;21;01mtyping\u001b[39;00m\u001b[38;5;250m \u001b[39m\u001b[38;5;28;01mimport\u001b[39;00m Any, Dict, List, Optional, Tuple, TYPE_CHECKING, Union\n\u001b[1;32m----> 9\u001b[0m \u001b[38;5;28;01mimport\u001b[39;00m\u001b[38;5;250m \u001b[39m\u001b[38;5;21;01mtorch\u001b[39;00m\u001b[38;5;21;01m.\u001b[39;00m\u001b[38;5;21;01m_inductor\u001b[39;00m\u001b[38;5;21;01m.\u001b[39;00m\u001b[38;5;21;01mconfig\u001b[39;00m\n\u001b[0;32m     10\u001b[0m \u001b[38;5;28;01mimport\u001b[39;00m\u001b[38;5;250m \u001b[39m\u001b[38;5;21;01mtorch\u001b[39;00m\u001b[38;5;21;01m.\u001b[39;00m\u001b[38;5;21;01mfx\u001b[39;00m\n",
      "File \u001b[1;32mc:\\Users\\User\\Documents\\SideProject\\personal_document_chatbot_with_RAG\\venv\\Lib\\site-packages\\torch\\_inductor\\config.py:161\u001b[0m\n\u001b[0;32m    156\u001b[0m \u001b[38;5;66;03m# register custom graph optimization pass hook. so far, pre/post passes are\u001b[39;00m\n\u001b[0;32m    157\u001b[0m \u001b[38;5;66;03m# only applied before/after pattern_matcher in post_grad_passes.\u001b[39;00m\n\u001b[0;32m    158\u001b[0m \u001b[38;5;66;03m#\u001b[39;00m\n\u001b[0;32m    159\u001b[0m \u001b[38;5;66;03m# Implement CustomGraphPass to allow Inductor to graph compiled artifacts\u001b[39;00m\n\u001b[0;32m    160\u001b[0m \u001b[38;5;66;03m# to which your custom passes have been applied:\u001b[39;00m\n\u001b[1;32m--> 161\u001b[0m post_grad_custom_pre_pass: \u001b[43mtorch\u001b[49m\u001b[38;5;241;43m.\u001b[39;49m\u001b[43m_inductor\u001b[49m\u001b[38;5;241;43m.\u001b[39;49m\u001b[43mcustom_graph_pass\u001b[49m\u001b[38;5;241m.\u001b[39mCustomGraphPassType \u001b[38;5;241m=\u001b[39m \u001b[38;5;28;01mNone\u001b[39;00m\n\u001b[0;32m    162\u001b[0m post_grad_custom_post_pass: torch\u001b[38;5;241m.\u001b[39m_inductor\u001b[38;5;241m.\u001b[39mcustom_graph_pass\u001b[38;5;241m.\u001b[39mCustomGraphPassType \u001b[38;5;241m=\u001b[39m \u001b[38;5;28;01mNone\u001b[39;00m\n",
      "\u001b[1;31mAttributeError\u001b[0m: partially initialized module 'torch._inductor' has no attribute 'custom_graph_pass' (most likely due to a circular import)",
      "\nThe above exception was the direct cause of the following exception:\n",
      "\u001b[1;31mRuntimeError\u001b[0m                              Traceback (most recent call last)",
      "Cell \u001b[1;32mIn[4], line 2\u001b[0m\n\u001b[0;32m      1\u001b[0m model_name \u001b[38;5;241m=\u001b[39m \u001b[38;5;124m\"\u001b[39m\u001b[38;5;124mmeta-llama/Llama-3.2-3B-Instruct\u001b[39m\u001b[38;5;124m\"\u001b[39m\n\u001b[1;32m----> 2\u001b[0m \u001b[38;5;28;01mfrom\u001b[39;00m\u001b[38;5;250m \u001b[39m\u001b[38;5;21;01mtransformers\u001b[39;00m\u001b[38;5;250m \u001b[39m\u001b[38;5;28;01mimport\u001b[39;00m pipeline\n\u001b[0;32m      4\u001b[0m pipe \u001b[38;5;241m=\u001b[39m pipeline(\n\u001b[0;32m      5\u001b[0m     \u001b[38;5;124m\"\u001b[39m\u001b[38;5;124mtext-generation\u001b[39m\u001b[38;5;124m\"\u001b[39m,\n\u001b[0;32m      6\u001b[0m     model\u001b[38;5;241m=\u001b[39mmodel_name,\n\u001b[0;32m      7\u001b[0m     torch_dtype\u001b[38;5;241m=\u001b[39mtorch\u001b[38;5;241m.\u001b[39mbfloat16,\n\u001b[0;32m      8\u001b[0m     device\u001b[38;5;241m=\u001b[39m\u001b[38;5;124m\"\u001b[39m\u001b[38;5;124mcuda:0\u001b[39m\u001b[38;5;124m\"\u001b[39m\n\u001b[0;32m      9\u001b[0m )\n\u001b[0;32m     12\u001b[0m messages \u001b[38;5;241m=\u001b[39m [\n\u001b[0;32m     13\u001b[0m     {\u001b[38;5;124m\"\u001b[39m\u001b[38;5;124mrole\u001b[39m\u001b[38;5;124m\"\u001b[39m: \u001b[38;5;124m\"\u001b[39m\u001b[38;5;124msystem\u001b[39m\u001b[38;5;124m\"\u001b[39m, \u001b[38;5;124m\"\u001b[39m\u001b[38;5;124mcontent\u001b[39m\u001b[38;5;124m\"\u001b[39m: \u001b[38;5;124m\"\u001b[39m\u001b[38;5;124mYou are a pirate chatbot who always responds in pirate speak!\u001b[39m\u001b[38;5;124m\"\u001b[39m},\n\u001b[0;32m     14\u001b[0m     {\u001b[38;5;124m\"\u001b[39m\u001b[38;5;124mrole\u001b[39m\u001b[38;5;124m\"\u001b[39m: \u001b[38;5;124m\"\u001b[39m\u001b[38;5;124muser\u001b[39m\u001b[38;5;124m\"\u001b[39m, \u001b[38;5;124m\"\u001b[39m\u001b[38;5;124mcontent\u001b[39m\u001b[38;5;124m\"\u001b[39m: \u001b[38;5;124m\"\u001b[39m\u001b[38;5;124mWho are you?\u001b[39m\u001b[38;5;124m\"\u001b[39m},\n\u001b[0;32m     15\u001b[0m ]\n",
      "File \u001b[1;32m<frozen importlib._bootstrap>:1412\u001b[0m, in \u001b[0;36m_handle_fromlist\u001b[1;34m(module, fromlist, import_, recursive)\u001b[0m\n",
      "File \u001b[1;32mc:\\Users\\User\\Documents\\SideProject\\personal_document_chatbot_with_RAG\\venv\\Lib\\site-packages\\transformers\\utils\\import_utils.py:1805\u001b[0m, in \u001b[0;36m_LazyModule.__getattr__\u001b[1;34m(self, name)\u001b[0m\n\u001b[0;32m   1803\u001b[0m     value \u001b[38;5;241m=\u001b[39m Placeholder\n\u001b[0;32m   1804\u001b[0m \u001b[38;5;28;01melif\u001b[39;00m name \u001b[38;5;129;01min\u001b[39;00m \u001b[38;5;28mself\u001b[39m\u001b[38;5;241m.\u001b[39m_class_to_module\u001b[38;5;241m.\u001b[39mkeys():\n\u001b[1;32m-> 1805\u001b[0m     module \u001b[38;5;241m=\u001b[39m \u001b[38;5;28;43mself\u001b[39;49m\u001b[38;5;241;43m.\u001b[39;49m\u001b[43m_get_module\u001b[49m\u001b[43m(\u001b[49m\u001b[38;5;28;43mself\u001b[39;49m\u001b[38;5;241;43m.\u001b[39;49m\u001b[43m_class_to_module\u001b[49m\u001b[43m[\u001b[49m\u001b[43mname\u001b[49m\u001b[43m]\u001b[49m\u001b[43m)\u001b[49m\n\u001b[0;32m   1806\u001b[0m     value \u001b[38;5;241m=\u001b[39m \u001b[38;5;28mgetattr\u001b[39m(module, name)\n\u001b[0;32m   1807\u001b[0m \u001b[38;5;28;01melif\u001b[39;00m name \u001b[38;5;129;01min\u001b[39;00m \u001b[38;5;28mself\u001b[39m\u001b[38;5;241m.\u001b[39m_modules:\n",
      "File \u001b[1;32mc:\\Users\\User\\Documents\\SideProject\\personal_document_chatbot_with_RAG\\venv\\Lib\\site-packages\\transformers\\utils\\import_utils.py:1819\u001b[0m, in \u001b[0;36m_LazyModule._get_module\u001b[1;34m(self, module_name)\u001b[0m\n\u001b[0;32m   1817\u001b[0m     \u001b[38;5;28;01mreturn\u001b[39;00m importlib\u001b[38;5;241m.\u001b[39mimport_module(\u001b[38;5;124m\"\u001b[39m\u001b[38;5;124m.\u001b[39m\u001b[38;5;124m\"\u001b[39m \u001b[38;5;241m+\u001b[39m module_name, \u001b[38;5;28mself\u001b[39m\u001b[38;5;241m.\u001b[39m\u001b[38;5;18m__name__\u001b[39m)\n\u001b[0;32m   1818\u001b[0m \u001b[38;5;28;01mexcept\u001b[39;00m \u001b[38;5;167;01mException\u001b[39;00m \u001b[38;5;28;01mas\u001b[39;00m e:\n\u001b[1;32m-> 1819\u001b[0m     \u001b[38;5;28;01mraise\u001b[39;00m \u001b[38;5;167;01mRuntimeError\u001b[39;00m(\n\u001b[0;32m   1820\u001b[0m         \u001b[38;5;124mf\u001b[39m\u001b[38;5;124m\"\u001b[39m\u001b[38;5;124mFailed to import \u001b[39m\u001b[38;5;132;01m{\u001b[39;00m\u001b[38;5;28mself\u001b[39m\u001b[38;5;241m.\u001b[39m\u001b[38;5;18m__name__\u001b[39m\u001b[38;5;132;01m}\u001b[39;00m\u001b[38;5;124m.\u001b[39m\u001b[38;5;132;01m{\u001b[39;00mmodule_name\u001b[38;5;132;01m}\u001b[39;00m\u001b[38;5;124m because of the following error (look up to see its\u001b[39m\u001b[38;5;124m\"\u001b[39m\n\u001b[0;32m   1821\u001b[0m         \u001b[38;5;124mf\u001b[39m\u001b[38;5;124m\"\u001b[39m\u001b[38;5;124m traceback):\u001b[39m\u001b[38;5;130;01m\\n\u001b[39;00m\u001b[38;5;132;01m{\u001b[39;00me\u001b[38;5;132;01m}\u001b[39;00m\u001b[38;5;124m\"\u001b[39m\n\u001b[0;32m   1822\u001b[0m     ) \u001b[38;5;28;01mfrom\u001b[39;00m\u001b[38;5;250m \u001b[39m\u001b[38;5;21;01me\u001b[39;00m\n",
      "\u001b[1;31mRuntimeError\u001b[0m: Failed to import transformers.pipelines because of the following error (look up to see its traceback):\npartially initialized module 'torch._inductor' has no attribute 'custom_graph_pass' (most likely due to a circular import)"
     ]
    }
   ],
   "source": [
    "model_name = \"meta-llama/Llama-3.2-3B-Instruct\"\n",
    "from transformers import pipeline\n",
    "\n",
    "pipe = pipeline(\n",
    "    \"text-generation\",\n",
    "    model=model_name,\n",
    "    torch_dtype=torch.bfloat16,\n",
    "    device_map=\"auto\"\n",
    ")\n",
    "\n",
    "\n",
    "messages = [\n",
    "    {\"role\": \"system\", \"content\": \"You are a pirate chatbot who always responds in pirate speak!\"},\n",
    "    {\"role\": \"user\", \"content\": \"Who are you?\"},\n",
    "]\n",
    "\n",
    "outputs = pipe(\n",
    "    messages,\n",
    "    max_new_tokens=256,\n",
    ")\n",
    "\n",
    "# Print the original output\n",
    "\n",
    "# Print the response only\n",
    "print(outputs[0][\"generated_text\"][-1])"
   ]
  },
  {
   "cell_type": "code",
   "execution_count": null,
   "metadata": {},
   "outputs": [],
   "source": [
    "prompt = \"What is LLM? Do not repeat the prompt in your response. Write your answer starting here [YOUR ANSWER HERE]\""
   ]
  },
  {
   "cell_type": "code",
   "execution_count": 11,
   "metadata": {},
   "outputs": [
    {
     "name": "stderr",
     "output_type": "stream",
     "text": [
      "Setting `pad_token_id` to `eos_token_id`:128001 for open-end generation.\n"
     ]
    },
    {
     "name": "stdout",
     "output_type": "stream",
     "text": [
      "This is the response generated:  What is LLM? Do not repeat the prompt in your response. Write your answer starting here [YOUR ANSWER HERE].\n",
      "\n",
      "\n",
      "[YOUR ANSWER HERE]\n",
      "\n",
      "Large Language Models (LLMs) are a type of artificial intelligence (AI) designed to process and understand human language. These models are trained on vast amounts of text data, allowing them to learn patterns, relationships, and structures within language. As a result, LLMs can generate human-like text, respond to questions, and even engage in conversation. They are commonly used in various applications, including language translation, text summarization, and content generation. LLMs have the potential to revolutionize the way we interact with technology and access information, but they also raise concerns about their limitations, biases, and potential misuse.\n"
     ]
    }
   ],
   "source": [
    "# Tokenize the prompt and move tensors to GPU\n",
    "inputs = tokenizer(prompt, return_tensors=\"pt\").to(device)\n",
    "\n",
    "# Generate response\n",
    "outputs = model.generate(inputs[\"input_ids\"],attention_mask=inputs[\"attention_mask\"], max_length=500 ,do_sample=True, pad_token_id=tokenizer.pad_token_id)\n",
    "response = tokenizer.decode(outputs[0], skip_special_tokens=True)\n",
    "print(\"This is the response generated: \", response)"
   ]
  },
  {
   "cell_type": "markdown",
   "metadata": {},
   "source": [
    "### Step 2: Retrieval"
   ]
  },
  {
   "cell_type": "code",
   "execution_count": 1,
   "metadata": {},
   "outputs": [
    {
     "name": "stderr",
     "output_type": "stream",
     "text": [
      "c:\\Users\\User\\Documents\\SideProject\\personal_document_chatbot_with_RAG\\venv\\Lib\\site-packages\\tqdm\\auto.py:21: TqdmWarning: IProgress not found. Please update jupyter and ipywidgets. See https://ipywidgets.readthedocs.io/en/stable/user_install.html\n",
      "  from .autonotebook import tqdm as notebook_tqdm\n"
     ]
    },
    {
     "name": "stdout",
     "output_type": "stream",
     "text": [
      "{'ids': [['58c81b88-ecbe-4ddd-9600-6736008e2ab1', 'ed0f7c44-0cc4-44e3-bc49-b9d180fe1c6c', '5f083e6c-2b0a-45d3-b166-9a62000d9fd7', '72fb8831-3dd2-4cdd-ab40-0d2c2101dd2d', '8fdb1ad0-999f-4ca6-a7c7-feda8dd5d9a4']], 'embeddings': None, 'documents': [['* * 1.0 DOCUMENTATION / DOKUMENTASI * * 1.1 Definition of Customer refers to the applicant and the guarantor ( if any ) named in the Application Form upon approval of the Facility by the Bank . _Takrif bagi Pelanggan merujuk pemohon dan penjamin ( jika ada ) yang dinamakan dalam Borang Permohonan selepas Kemudahan diluluskan oleh Bank._ 1.2 The applicant and the guarantor ( if any ) named in the Application Form agrees with Affin Bank Berhad ( “ Bank ” ) that this General Terms and Conditions ( “ T & C ” ) shall be read together with the Application Form executed by the Customer and shall bind the applicant and the guarantor ( if any ) whose application for Term Loan Secured by ASB Certificate ( “ Facility ” ) has been approved by the Bank . _Pemohon dan penjamin ( jika ada ) yang dinamakan dalam Borang Permohonan bersetuju dengan Affin Bank Berhad ( “ Bank ” ) bahawa Terma dan Syarat_ _Am ( Terma & Syarat ) ini akan dibaca bersama Borang Permohonan yang dilaksanakan oleh Pelanggan dan akan mengikat pemohon dan penjamin ( jika_ _ada ) yang permohonannya untuk Pinjaman Bertempoh yang Dijamin oleh Sijil ASB ( “ Kemudahan ” ) telah diluluskan oleh Bank._ 1.3 This T & C and all other documents relating to the Facility shall form a binding agreement of this Facility . _Terma & Syarat ini dan semua dokumen lain berkaitan dengan Kemudahan akan membentuk perjanjian mengikat bagi Kemudahan ini._ 1.4 This T & C will take effect from the date this Facility is approved . _Terma & Syarat ini akan berkuat kuasa dari tarikh Kemudahan ini diluluskan._ * * 2.0 TERM LOAN FACILITY / KEMUDAHAN PINJAMAN BERTEMPOH * * 2.1 The Facility is to loan the following : _Kemudahan ini adalah sebagai pinjaman bagi perkara yang berikut : -_ 2.2 ( a ) purchase of Amanah Saham Bumiputera ( “ ASB ” ) units from Amanah Saham Nasional Berhad ( “ ASNB ” ) by Customer as stated in the Application Form or such other number of ASB units that the Customer shall be entitled to purchase as determined by ASNB . The maximum ASB units purchase amount is up to RM200,000.00 per Customer , at any one time including the balance outstanding of the existing ASB loan ( if any ) , or up to the maximum investment amount allowed by ASNB , whichever is lower ; and _pembelian unit Amanah Saham Bumiputera ( “ ASB ” ) dari Amanah Saham Nasional Berhad ( “ ASNB ” ) oleh Pelanggan sebagaimana yang_ _dinyatakan dalam Borang Permohonan atau jumlah unit ASB lain seumpamanya yang layak dibeli oleh Pelanggan seperti yang ditentukan oleh_ _ASNB . Amaun maksimum bagi unit ASB yang boleh dibeli adalah sehingga RM200,000.00 bagi setiap Pelanggan , pada satu-satu masa termasuk_ _baki yang belum dijelaskan bagi pinjaman ASB sedia ada ( jika ada ) , atau sehingga amaun pelaburan maksimum yang dibenarkan oleh ASNB , _ _mengikut mana-mana yang lebih rendah ; dan_ ( b ) Reducing', \"account . Any shortfall in the account is to be settled by the Customer . _Bank berhak membubarkan/menjual Unit ASB yang disandarkan bagi pihak Bank jika Kemudahan tertunggak selama dua ( 2 ) bulan atau lebih dan_ _hasilnya akan dikreditkan untuk melaraskan akaun pinjaman . Apa-apa kurangan dalam akaun hendaklah diselesaikan oleh Pelanggan._ * * 20.0 DEBT RECOVERY / TUNTUTAN BALIK HUTANG * * 20.1 Subject to Clause 20.2 , the Bank may contact the personal reference as stated in this application form in the event the Customer is not contactable/reachable should there is any balance shortfall after liquidation for recovery process . _Tertakluk kepada Fasal 20.2 , Bank boleh menghubungi rujukan peribadi sebagaimana yang dinyatakan dalam borang permohonan ini sekiranya_ _Pelanggan tidak dapat dihubungi jika terdapat apa-apa kurangan baki selepas pembubaran untuk proses tuntutan balik._ 20.2 The Customer confirms that by providing personal reference information in this application form , their consent has been obtained for the purpose related to or in connection with the facility under this T & C . _Pelanggan mengesahkan bahawa dengan memberikan maklumat rujukan peribadi dalam borang permohonan ini , kebenaran mereka telah diperoleh_ _bagi tujuan yang berkaitan atau berhubung dengan Kemudahan di bawah Terma & Syarat ini._ 20.3 The Bank has the right to liquidate the ASB Certificate in the event the account is in arrears of 2 months and legal action may be taken for shortfalls , if any to transfer , sell , participate in secondary debt markets or assign all or any part of its rights , benefits and obligations under this T & C and/or any security document by assigning to any other party all or any part of the Bank 's rights and benefits under this T & C and/or any security document . _Kecuali dan melainkan pindah milik dan/atau penyerahan hak menjejaskan Pelanggan , Bank berhak selepas memberikan notis kepada Pelanggan_ _untuk memindah milik , menjual , menyertai pasaran hutang sekunder atau menyerah hak semua atau mana-mana bahagian hak , manfaat dan_ _obligasinya di bawah Terma & Syarat ini dan/atau apa-apa dokumen sekuriti dengan menyerah hak kepada mana-mana pihak lain semua atau_ _mana-mana bahagian hak dan manfaat Bank di bawah Terma & Syarat ini dan/atau apa-apa dokumen sekuriti._ 21.2 The Customer may not transfer or assign any of the Customer ’ s rights , benefits and obligations under this T & C and/or any security document without the prior written consent of the Bank and any purported assignment without such consent shall be null and void . _Pelanggan tidak boleh memindah milik atau menyerah hak apa-apa hak , manfaat dan obligasi Pelanggan di bawah Terma dan Syarat ini dan/atau_ _apa-apa dokumen sekuriti tanpa mendapatkan kebenaran bertulis daripada Bank terlebih dahulu dan apa-apa penyerahan hak yang dmaksudkan itu_ _tanpa kebenaran tersebut adalah terbatal dan tidak sah._ * * 22.0 GOVERNING LAW / UNDANG-UNDANG YANG TERPAKAI * * 22.1 This T & C shall be construed and have effect in all respects in accordance with the laws of Malaysia and the Customer agrees to submit to the jurisdiction of the Malaysian\", ', restructured , renewed or supplemented from time to time by the Bank ) is upon fulfillment of the following conditions precedent and such other conditions precedent as the Bank may require upon notice to the Customer . There must also not be any material changes affecting the Customer ’ s financial condition and that none of the events set out in clause 19 of this T & C has occurred or may occur : _Penggunaan Kemudahan ( sebagaimana disemak semula , disusun semula , diperbaharui atau ditambah dari semasa ke semasa oleh Bank ) adalah_ _selepas pematuhan syarat terdahulu yang berikut dan syarat terdahulu lain seumpamanya yang mungkin dikehendaki oleh Bank selepas memberikan_ _notis kepada Pelanggan . Tidak ada juga apa-apa perubahan ketara yang menjejaskan keadaan kewangan Pelanggan dan tidak ada satu pun kejadian_ _yang dinyatakan dalam fasal 19 Terma & Syarat ini yang telah berlaku atau mungkin berlaku : _ ( a ) receipt by the Bank of a duly accepted and signed Application Form together with the relevant documents ; _Bank menerima Borang Permohonan yang diterima dan ditandatangani sewajarnya berserta dokumen yang berkaitan ; _ ( b ) receipt by the Bank of ASNB Unit Trust Financing Risk Disclosure Statement ; _Bank menerima Penyata Pendedahan Risiko Pembiayaan Unit Amanah ASNB ; _ ( c ) receipt by the Bank of any insurance policies/Letter of Acceptance issued by the Bank ’ s approved insurance company as a case may be required by the Bank , ( insurance policies shall be in form and content acceptable to the Bank and provided by insurers acceptable to the Bank ) , unless waived by the Bank ; _Bank menerima apa-apa polisi insurans/Surat Setuju Terima yang dikeluarkan oleh syarikat insurans yang diluluskan oleh Bank mengikut_ _mana-mana yang berkenaan seperti yang dikehendaki oleh Bank , ( polisi insurans hendaklah dalam bentuk dan kandungan yang boleh diterima_ _oleh Bank dan disediakan oleh penanggung insurans yang diterima oleh Bank , ) melainkan diketepikan oleh Bank ; _ ( d ) receipt by the Bank of the confirmation from ASNB regarding the Customer ’ s entitlement to purchase the relevant ASB Units ; _Bank menerima pengesahan daripada ASNB berkenaan kelayakan Pelanggan untuk membeli Unit ASB yang berkaitan ; _ ( e ) receipt by the Bank of a favorable results from searches and no negative indications from CCRIS , FIS or any other reference agencies considered necessary by the Bank ; _Bank menerima keputusan yang memuaskan daripada carian dan tiada penunjuk negatif daripada CCRIS , FIS atau mana-mana agensi rujukan lain_ _yang dianggap perlu oleh Bank ; _ ( f ) receipt by the Bank of the Processing Fee ( if applicable ) ; _Bank menerima Fi Pemprosesan ( jika berkenaan ) ; _ ( g ) the Customer is encouraged to open and maintain a Savings/Current account with the Bank . This requirement is exempted for the Bank ’ s existing account holder . The Customer is encouraged to ensure that sufficient fund is maintained in the Savings/Current account for the payment of monthly instalment under the', 'I/We propose to settle/reduce the ASB loan via the following:\\n_Saya/Kami bercadang untuk menyelesaikan/mengurangkan pinjaman melalui:_\\nWithdrawal from EPF\\n_Pengeluaran dari KWSP_\\nPension Provisions\\n_Peruntukan Pencen_\\nOthers/Lain-lain:\\nProceeds from Insurance/Takaful Policy Cash Value\\n_Hasil Tunai dari Polisi Insuran/Takaful_\\nProceeds from Investments\\n_Hasil dari Pelaburan_', 'facility ; _Pelanggan digalakkan untuk membuka dan mengekalkan akaun Simpanan/Semasa dengan Bank . Keperluan ini dikecualikan bagi pemegang_ _akaun Bank sedia ada . Pelanggan digalakkan untuk memastikan dana yang mencukupi dikekalkan dalam akaun Simpanan/Semasa bagi_ _pembayaran ansuran bulanan di bawah Kemudahan ; _ ( h ) if the RTA premium is self-financed by the Customer , the Customer is to forward written confirmation from their preferred Insurance operator with regard to RTA coverage , premium payment and enforcement of policy prior to disbursement ; _jika premium RTA dibiayai sendiri oleh Pelanggan , maka Pelanggan perlu mengemukakan pengesahan bertulis daripada pengendali Insurans_ _pilihan mereka berkenaan perlindungan RTA , pembayaran premium dan penguatkuasaan polisi sebelum pengeluaran wang ; _ ( i ) the additional conditions precedent ( if any ) shall have been satisfied and fulfilled ; and _syarat terdahulu tambahan ( jika ada ) hendaklah dipenuhi dan dipatuhi ; dan_ ( j ) Stamp Duty and ASNB Certificate fee shall be deducted from ASB loan account . _Duti Setem dan fi Sijil ASNB hendaklah ditolak daripada akaun pinjaman ASB._ 7.2 The conditions to disbursement set out in this T & C are intended for the sole benefit of the Bank and may be waived by the Bank , in whole or in part , without prejudicing the right of the Bank to assert such T & C , in whole or in part , in respect of subsequent utilisation of the Facility . _Syarat pengeluaran wang yang dinyatakan dalam Terma & Syarat ini bertujuan untuk manfaat tunggal Bank dan mungkin diketepikan oleh Bank , _ _keseluruhannya atau sebahagiannya , tanpa memudaratkan hak Bank untuk menetapkan Terma & Syarat tersebut , keseluruhannya atau sebahagiannya , _ _berhubung dengan penggunaan Kemudahan yang berikutnya._ * * 8.0 RIGHT TO REVIEW AND TERMINATE THE FACILITY / HAK UNTUK MENYEMAK SEMULA DAN MENAMATKAN KEMUDAHAN * * 8.1 The Bank reserves the right and is entitled to review the Facility at any time as the Bank considers fit . _Bank berhak dan layak untuk menyemak semula Kemudahan pada bila-bila masa seperti yang dianggap sesuai oleh Bank._ 8.2 8.3 8.4 8.5 8.6 The Bank has the right to terminate the Facility with reasonable notice . _Bank berhak menamatkan Kemudahan dengan notis sewajarnya._ The Bank shall provide at least 21 calendar days ’ prior notice to the Customer before making any changes to the T & C . _Bank hendaklah memberikan sekurang-kurangnya 21 hari kalendar notis terdahulu kepada Pelanggan sebelum membuat apa-apa perubahan_ _pada Terma & Syarat._ Notwithstanding any other provision contained in this T & C or in any other document , the Bank will at all times have the right to terminate , cancel , suspend or reduce the limit of all or any part of the Facility and/or to require immediate payment , any form of additional security and/or cash collateralisation of all or any part of the sums actually or contingently owing to it . Reasonable notice will be given by the Bank . _Dengan tidak menyentuh apa-apa peruntukan lain yang terkandung dalam Terma & Syarat ini']], 'uris': None, 'data': None, 'metadatas': None, 'distances': None, 'included': [<IncludeEnum.documents: 'documents'>]}\n"
     ]
    }
   ],
   "source": [
    "import sentence_transformers\n",
    "import chromadb\n",
    "\n",
    "model = sentence_transformers.SentenceTransformer(\"mixedbread-ai/mxbai-embed-large-v1\")\n",
    "#  Encode the query\n",
    "query = \"What is the general condition of ASB Loan\"\n",
    "query_embedding = model.encode(query)\n",
    "\n",
    "# Search the vector database \n",
    "client = chromadb.PersistentClient(path=\"C:/Users/User/Documents/SideProject/personal_document_chatbot_with_RAG/data/vectorDB\")\n",
    "collection = client.get_collection(name=\"document_collection\")\n",
    "vector_response = collection.query(\n",
    "    query_embeddings= query_embedding.tolist(),\n",
    "    n_results=5,\n",
    "    include = [\"documents\"]\n",
    ")\n",
    "print(vector_response)\n",
    "\n",
    "# give the output"
   ]
  },
  {
   "cell_type": "markdown",
   "metadata": {},
   "source": [
    "### Step 3: Send the Retrieval information and Generate Response by using LLM"
   ]
  },
  {
   "cell_type": "markdown",
   "metadata": {},
   "source": []
  }
 ],
 "metadata": {
  "kernelspec": {
   "display_name": "venv",
   "language": "python",
   "name": "python3"
  },
  "language_info": {
   "codemirror_mode": {
    "name": "ipython",
    "version": 3
   },
   "file_extension": ".py",
   "mimetype": "text/x-python",
   "name": "python",
   "nbconvert_exporter": "python",
   "pygments_lexer": "ipython3",
   "version": "3.12.7"
  }
 },
 "nbformat": 4,
 "nbformat_minor": 2
}
