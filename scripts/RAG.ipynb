{
 "cells": [
  {
   "cell_type": "markdown",
   "metadata": {},
   "source": [
    "# Implementation of Retrieval and Generation workflow"
   ]
  },
  {
   "cell_type": "markdown",
   "metadata": {},
   "source": [
    "### Step 1: setup the LLM model "
   ]
  },
  {
   "cell_type": "markdown",
   "metadata": {},
   "source": [
    "Criteria\n",
    "\n",
    "LLM of choice:\n",
    "1. llama 3.1/3.2\n",
    "2. deepseek r1 distill qwen 7b/ llama 8b\n",
    "\n",
    "May need to deploy the LLM online:\n",
    "1. Runpod\n",
    "2. Replicate\n",
    "3. OpenRouter"
   ]
  },
  {
   "cell_type": "code",
   "execution_count": 72,
   "metadata": {},
   "outputs": [],
   "source": [
    "from transformers import AutoTokenizer, AutoModelForCausalLM\n",
    "import torch\n",
    "import sentence_transformers\n",
    "import chromadb"
   ]
  },
  {
   "cell_type": "markdown",
   "metadata": {},
   "source": [
    "### Loading the model directly"
   ]
  },
  {
   "cell_type": "code",
   "execution_count": 73,
   "metadata": {},
   "outputs": [
    {
     "name": "stdout",
     "output_type": "stream",
     "text": [
      "Using device: cuda\n",
      "Loading model...\n"
     ]
    },
    {
     "name": "stderr",
     "output_type": "stream",
     "text": [
      "Loading checkpoint shards: 100%|██████████| 2/2 [00:37<00:00, 18.60s/it]\n"
     ]
    },
    {
     "name": "stdout",
     "output_type": "stream",
     "text": [
      "Model loaded successfully.\n"
     ]
    }
   ],
   "source": [
    "\n",
    "#Load model\n",
    "model_name = \"meta-llama/Llama-3.2-3B-Instruct\" #3B = 12GB\n",
    "#model_name = \"deepseek-ai/DeepSeek-R1-Distill-Llama-8B\"\n",
    "#model_name = \"deepseek-ai/DeepSeek-R1-Distill-Qwen-7B\" #7B parameter of BF16 = 13GB RAM needed # FP32 = 26GB RAM needed\n",
    "\n",
    "# Check if a GPU is available\n",
    "device = torch.device(\"cuda\" if torch.cuda.is_available() else \"cpu\")\n",
    "print(f\"Using device: {device}\")\n",
    "\n",
    "# Load model and tokenizer\n",
    "print(\"Loading model...\")\n",
    "tokenizer = AutoTokenizer.from_pretrained(model_name)\n",
    "model = AutoModelForCausalLM.from_pretrained(model_name, torch_dtype=torch.float16).to(device)\n",
    "print(\"Model loaded successfully.\")"
   ]
  },
  {
   "cell_type": "code",
   "execution_count": 70,
   "metadata": {},
   "outputs": [],
   "source": [
    "#define the function to create a chat template for the LLM\n",
    "def chat(messages, max_new_tokens=256):\n",
    "\n",
    "    # Format the conversation history for llama\n",
    "    formatted_prompt = tokenizer.apply_chat_template(messages, tokenize=False, add_generation_prompt=True)\n",
    "\n",
    "    # Tokenize \n",
    "    inputs = tokenizer(formatted_prompt,return_tensors=\"pt\").to(\"cuda\")\n",
    "    # generate response\n",
    "    outputs = model.generate(**inputs, max_new_tokens=max_new_tokens)\n",
    "\n",
    "    #Decode and return only the new assistant response\n",
    "    response = tokenizer.decode(outputs[0], skip_special_tokens=True)\n",
    "    \n",
    "\n",
    "    return response"
   ]
  },
  {
   "cell_type": "code",
   "execution_count": null,
   "metadata": {},
   "outputs": [],
   "source": [
    "# CONVERSATION HISTORY\n",
    "messages = [\n",
    "    {\"role\": \"system\", \"content\": \"You are a helpful personal assistant that is responsible to summarize, search for specific details,and give helpful answers to the user based on given context.\"},\n",
    "    {\"role\": \"user\", \"content\": \"Context:\\n\" + retrieved_chunks + \"\\n\\nUser Query:\\n\" + user_query},\n",
    "]"
   ]
  },
  {
   "cell_type": "code",
   "execution_count": 20,
   "metadata": {},
   "outputs": [
    {
     "name": "stderr",
     "output_type": "stream",
     "text": [
      "Setting `pad_token_id` to `eos_token_id`:128001 for open-end generation.\n"
     ]
    },
    {
     "name": "stdout",
     "output_type": "stream",
     "text": [
      "system\n",
      "\n",
      "Cutting Knowledge Date: December 2023\n",
      "Today Date: 14 Feb 2025\n",
      "\n",
      "You are a helpful personal assistant who knows about your user's personal documents and are responsible to summarize the documents, search for specific details from specific documents, and give helpful answers to the user.user\n",
      "\n",
      "Who are you?assistant\n",
      "\n",
      "I'm an AI personal assistant designed to help you with information and tasks. I have been trained on a vast amount of text data, including your personal documents, to provide you with quick and accurate answers to your questions.\n",
      "\n",
      "I can summarize documents, search for specific details, and offer helpful suggestions based on the information I have access to. I'm here to make your life easier and more productive.\n",
      "\n",
      "To get started, what would you like to do? Do you have a specific document you'd like me to summarize or search for information in?\n"
     ]
    }
   ],
   "source": [
    "# Get chatbot response\n",
    "response = chat(messages)\n",
    "print(response)"
   ]
  },
  {
   "cell_type": "code",
   "execution_count": 11,
   "metadata": {},
   "outputs": [
    {
     "name": "stderr",
     "output_type": "stream",
     "text": [
      "Setting `pad_token_id` to `eos_token_id`:128001 for open-end generation.\n"
     ]
    },
    {
     "name": "stdout",
     "output_type": "stream",
     "text": [
      "This is the response generated:  What is LLM? Do not repeat the prompt in your response. Write your answer starting here [YOUR ANSWER HERE].\n",
      "\n",
      "\n",
      "[YOUR ANSWER HERE]\n",
      "\n",
      "Large Language Models (LLMs) are a type of artificial intelligence (AI) designed to process and understand human language. These models are trained on vast amounts of text data, allowing them to learn patterns, relationships, and structures within language. As a result, LLMs can generate human-like text, respond to questions, and even engage in conversation. They are commonly used in various applications, including language translation, text summarization, and content generation. LLMs have the potential to revolutionize the way we interact with technology and access information, but they also raise concerns about their limitations, biases, and potential misuse.\n"
     ]
    }
   ],
   "source": [
    "# Tokenize the prompt and move tensors to GPU\n",
    "inputs = tokenizer(prompt, return_tensors=\"pt\").to(device)\n",
    "\n",
    "# Generate response\n",
    "outputs = model.generate(inputs[\"input_ids\"],attention_mask=inputs[\"attention_mask\"], max_length=500 ,do_sample=True, pad_token_id=tokenizer.pad_token_id)\n",
    "response = tokenizer.decode(outputs[0], skip_special_tokens=True)\n",
    "print(\"This is the response generated: \", response)"
   ]
  },
  {
   "cell_type": "markdown",
   "metadata": {},
   "source": [
    "### Step 2: Retrieval"
   ]
  },
  {
   "cell_type": "code",
   "execution_count": 74,
   "metadata": {},
   "outputs": [],
   "source": [
    "# An example of user_query\n",
    "user_query = \" When did the last time i purchased a ticket? \""
   ]
  },
  {
   "cell_type": "code",
   "execution_count": 66,
   "metadata": {},
   "outputs": [
    {
     "name": "stdout",
     "output_type": "stream",
     "text": [
      "{'ids': [['1666d225-5898-4a7c-b861-f57787736355', '4102d724-89b4-4f69-98d0-7776bff6e923']], 'embeddings': None, 'documents': [['Airlines ) to a card maintained by the Cardholder with the Certificate holder * * 2 . SCHEDULE OF BENEFITS * * * * 2.1 Flight Delay * * If the Covered Person ’ s confirmed Scheduled Flight is delayed and no alternative onward transportation is made available to the Covered Person within four ( 4 ) hours of the actual departure time of the Scheduled Flight , TIGB will indemnify the actual additional expenses necessarily and reasonably incurred for hotel accommodation and restaurant meals and refreshments , up to the maximum limits as specified in the Schedule of Benefits provided that the Covered Person had been at the airport at the time of such flight delay . * * Platinum Card * * Up to RM1,000 Limit per family RM2,000 * * 2.2 Missed Flight Connection * * If the Covered Person ’ s confirmed onward connecting Scheduled Flight is missed at the transfer point due to the late arrival of the Covered Person ’ s incoming confirmed connecting Scheduled Flight and no alternative onward transportation is made available to the Covered Person within four ( 4 ) hours of the actual arrival time of his incoming flight , TIGB will indemnify the actual additional expenses necessarily and reasonably incurred for Hotel accommodation and restaurant meals or refreshments , up to a maximum limit as specified in the Schedule of Benefits provided that the Covered Person shall be at the airport at the time of such missed flight connection . * * Platinum Card * * Up to RM1,000 Limit per family RM2,000 * * 2.3 Accompanied Flight Luggage Delay * * If the Covered Person ’ s accompanied check-in flight luggage is not delivered to him within six ( 6 ) hours of the Covered Person ’ s actual arrival at the abroad scheduled destination point of his Scheduled Flight , TIGB will indemnify the actual additional expenses necessarily and reasonably incurred at such abroad scheduled destination for emergency purchase of essential clothing and toiletries up to a maximum limit as specified in the Schedule of Benefits , provided that such flight luggage had been checked in by an authorised official of the air Carrier with which the Covered Person was travelling at the time of the occurrence . * * Platinum Card * * Up to RM1,000 Limit per family RM2,000 * * 2.4 Accompanied Flight Luggage Loss * * If the Covered Person ’ s accompanied check-in flight luggage is not delivered to him within forty-eight ( 48 ) hours of the Covered Person ’ s actual arrival at the abroad scheduled destination point of his Scheduled Flight such luggage will be presumed to be permanently lost and TIGB will indemnify the actual additional expenses necessarily and reasonably incurred within four ( 4 ) days at such Scheduled destination for emergency purchase of essential clothing and toiletries , up to a maximum limit as specified in the Schedule of Benefits , provided that the luggage presumed lost had been checked in by an authorised official of the air', \"relation to the use of the Card ( including illegal activities such as illegal online betting ) ; ( m ) if in the Bank ’ s view there is a deterioration in the Cardholder ’ s creditworthiness ; ( n ) If due to the Cardholder ’ s domicile , nationality , residency status , tax status , or any other relevant status , by allowing the Cardholder to continue to use the Card , the Bank might breach any applicable law or regulations , its internal requirement , policies or its usual business practice and procedures ; ( o ) If due to any law or change of any law or regulatory requirement ( whether or not having the force of law ) , it might become unlawful or the Bank is prevented from allowing the Cardholder the continued use of the Card ; ( p ) If any regulatory authority or other fiscal or monetary authority ( whether or not having the force of law ) requests the Bank to stop the Cardholder ’ s use of the Card ; or ( q ) if suspicious or abnormal transactions are being carried out on the Card and the Bank is of the opinion that suspension and/or termination is reasonably required to prevent fraudulent or unauthorized transactions . 20.3 The Bank does not have to give any reason for withdrawing , suspending and/or cancelling the Card and/or any Card related services . 20.4 The Cardholder must pay for all transactions charged to the Card until the Bank has formally terminated or cancelled the use of the Card in its records . 20.5 Only if a Card is cancelled within three ( 3 ) months from the payment of the annual fee ( if any ) will the annual fee paid be refunded to the Cardholder on a pro-rated basis . In all other cases there shall be no refund or partial refund of any annual fees paid . 20.6 If the Card is terminated and/or suspended by the Bank pursuant to these terms and conditions , the Supplementary Card shall also be terminated and/or suspended with immediate effect . 20.7 Even though the use of the Card has been withdrawn , suspended and/or cancelled , these terms and conditions shall still apply and the Bank shall continue to impose payable facility charges ( for so long as any of the Services is available ) and/or ta'widh ( compensation ) and any other applicable fees and charges ( if any ) on all monies which remain due and unpaid and debit these monies and charges to the Card Account which the Cardholder must pay . * * Theft or Loss or Fraudulent Use of The Card and the Mobile Device * * 21.1 ( a ) Unless otherwise agreed by the Bank , the Cardholder must pay all charges incurred for goods and services and all cash advances obtained through the use of the Card . The Cardholder must take the utmost care and precaution to keep secret and secure and\"]], 'uris': None, 'data': None, 'metadatas': None, 'distances': None, 'included': [<IncludeEnum.documents: 'documents'>]}\n"
     ]
    }
   ],
   "source": [
    "\n",
    "\n",
    "model = sentence_transformers.SentenceTransformer(\"mixedbread-ai/mxbai-embed-large-v1\")\n",
    "#  Encode the query\n",
    "query =  user_query\n",
    "query_embedding = model.encode(query)\n",
    "\n",
    "# Search the vector database \n",
    "client = chromadb.PersistentClient(path=\"C:/Users/User/Documents/SideProject/personal_document_chatbot_with_RAG/data/vectorDB\")\n",
    "collection = client.get_collection(name=\"document_collection\")\n",
    "vector_response = collection.query(\n",
    "    query_embeddings= query_embedding.tolist(),\n",
    "    n_results=2,\n",
    "    include = [\"documents\"]\n",
    ")\n",
    "print(vector_response)\n",
    "\n",
    "# give the output"
   ]
  },
  {
   "cell_type": "markdown",
   "metadata": {},
   "source": [
    "### Step 3: Send the Retrieval information and Generate Response by using LLM"
   ]
  },
  {
   "cell_type": "markdown",
   "metadata": {},
   "source": []
  },
  {
   "cell_type": "code",
   "execution_count": 75,
   "metadata": {},
   "outputs": [
    {
     "name": "stdout",
     "output_type": "stream",
     "text": [
      "Airlines ) to a card maintained by the Cardholder with the Certificate holder * * 2 . SCHEDULE OF BENEFITS * * * * 2.1 Flight Delay * * If the Covered Person ’ s confirmed Scheduled Flight is delayed and no alternative onward transportation is made available to the Covered Person within four ( 4 ) hours of the actual departure time of the Scheduled Flight , TIGB will indemnify the actual additional expenses necessarily and reasonably incurred for hotel accommodation and restaurant meals and refreshments , up to the maximum limits as specified in the Schedule of Benefits provided that the Covered Person had been at the airport at the time of such flight delay . * * Platinum Card * * Up to RM1,000 Limit per family RM2,000 * * 2.2 Missed Flight Connection * * If the Covered Person ’ s confirmed onward connecting Scheduled Flight is missed at the transfer point due to the late arrival of the Covered Person ’ s incoming confirmed connecting Scheduled Flight and no alternative onward transportation is made available to the Covered Person within four ( 4 ) hours of the actual arrival time of his incoming flight , TIGB will indemnify the actual additional expenses necessarily and reasonably incurred for Hotel accommodation and restaurant meals or refreshments , up to a maximum limit as specified in the Schedule of Benefits provided that the Covered Person shall be at the airport at the time of such missed flight connection . * * Platinum Card * * Up to RM1,000 Limit per family RM2,000 * * 2.3 Accompanied Flight Luggage Delay * * If the Covered Person ’ s accompanied check-in flight luggage is not delivered to him within six ( 6 ) hours of the Covered Person ’ s actual arrival at the abroad scheduled destination point of his Scheduled Flight , TIGB will indemnify the actual additional expenses necessarily and reasonably incurred at such abroad scheduled destination for emergency purchase of essential clothing and toiletries up to a maximum limit as specified in the Schedule of Benefits , provided that such flight luggage had been checked in by an authorised official of the air Carrier with which the Covered Person was travelling at the time of the occurrence . * * Platinum Card * * Up to RM1,000 Limit per family RM2,000 * * 2.4 Accompanied Flight Luggage Loss * * If the Covered Person ’ s accompanied check-in flight luggage is not delivered to him within forty-eight ( 48 ) hours of the Covered Person ’ s actual arrival at the abroad scheduled destination point of his Scheduled Flight such luggage will be presumed to be permanently lost and TIGB will indemnify the actual additional expenses necessarily and reasonably incurred within four ( 4 ) days at such Scheduled destination for emergency purchase of essential clothing and toiletries , up to a maximum limit as specified in the Schedule of Benefits , provided that the luggage presumed lost had been checked in by an authorised official of the airrelation to the use of the Card ( including illegal activities such as illegal online betting ) ; ( m ) if in the Bank ’ s view there is a deterioration in the Cardholder ’ s creditworthiness ; ( n ) If due to the Cardholder ’ s domicile , nationality , residency status , tax status , or any other relevant status , by allowing the Cardholder to continue to use the Card , the Bank might breach any applicable law or regulations , its internal requirement , policies or its usual business practice and procedures ; ( o ) If due to any law or change of any law or regulatory requirement ( whether or not having the force of law ) , it might become unlawful or the Bank is prevented from allowing the Cardholder the continued use of the Card ; ( p ) If any regulatory authority or other fiscal or monetary authority ( whether or not having the force of law ) requests the Bank to stop the Cardholder ’ s use of the Card ; or ( q ) if suspicious or abnormal transactions are being carried out on the Card and the Bank is of the opinion that suspension and/or termination is reasonably required to prevent fraudulent or unauthorized transactions . 20.3 The Bank does not have to give any reason for withdrawing , suspending and/or cancelling the Card and/or any Card related services . 20.4 The Cardholder must pay for all transactions charged to the Card until the Bank has formally terminated or cancelled the use of the Card in its records . 20.5 Only if a Card is cancelled within three ( 3 ) months from the payment of the annual fee ( if any ) will the annual fee paid be refunded to the Cardholder on a pro-rated basis . In all other cases there shall be no refund or partial refund of any annual fees paid . 20.6 If the Card is terminated and/or suspended by the Bank pursuant to these terms and conditions , the Supplementary Card shall also be terminated and/or suspended with immediate effect . 20.7 Even though the use of the Card has been withdrawn , suspended and/or cancelled , these terms and conditions shall still apply and the Bank shall continue to impose payable facility charges ( for so long as any of the Services is available ) and/or ta'widh ( compensation ) and any other applicable fees and charges ( if any ) on all monies which remain due and unpaid and debit these monies and charges to the Card Account which the Cardholder must pay . * * Theft or Loss or Fraudulent Use of The Card and the Mobile Device * * 21.1 ( a ) Unless otherwise agreed by the Bank , the Cardholder must pay all charges incurred for goods and services and all cash advances obtained through the use of the Card . The Cardholder must take the utmost care and precaution to keep secret and secure and\n"
     ]
    }
   ],
   "source": [
    "for k, v in vector_response.items():\n",
    "    if k == 'documents':\n",
    "        for i in v:\n",
    "            c=0\n",
    "            retrieved_chunks = i[0] + i[1]\n",
    "            print(retrieved_chunks)\n",
    "\n",
    "\n"
   ]
  },
  {
   "cell_type": "code",
   "execution_count": 76,
   "metadata": {},
   "outputs": [],
   "source": [
    "# message template\n",
    "messages = [\n",
    "    {\"role\": \"system\", \"content\": \"You are a helpful personal assistant that is responsible to summarize, search for specific details,and give helpful answers to the user based on given context. If the answer is not clear within the given context, please elaborate wisely based on your current knowledge.\"},\n",
    "    {\"role\": \"user\", \"content\": \"Context:\\n\" + retrieved_chunks + \"\\n\\nUser Query:\\n\" + user_query},\n",
    "]"
   ]
  },
  {
   "cell_type": "code",
   "execution_count": 77,
   "metadata": {},
   "outputs": [
    {
     "name": "stderr",
     "output_type": "stream",
     "text": [
      "Setting `pad_token_id` to `eos_token_id`:128001 for open-end generation.\n"
     ]
    },
    {
     "name": "stdout",
     "output_type": "stream",
     "text": [
      "system\n",
      "\n",
      "Cutting Knowledge Date: December 2023\n",
      "Today Date: 14 Feb 2025\n",
      "\n",
      "You are a helpful personal assistant that is responsible to summarize, search for specific details,and give helpful answers to the user based on given context. If the answer is not clear within the given context, please elaborate wisely based on your current knowledge.user\n",
      "\n",
      "Context:\n",
      "Airlines ) to a card maintained by the Cardholder with the Certificate holder * * 2. SCHEDULE OF BENEFITS * * * * 2.1 Flight Delay * * If the Covered Person ’ s confirmed Scheduled Flight is delayed and no alternative onward transportation is made available to the Covered Person within four ( 4 ) hours of the actual departure time of the Scheduled Flight, TIGB will indemnify the actual additional expenses necessarily and reasonably incurred for hotel accommodation and restaurant meals and refreshments, up to the maximum limits as specified in the Schedule of Benefits provided that the Covered Person had been at the airport at the time of such flight delay. * * Platinum Card * * Up to RM1,000 Limit per family RM2,000 * * 2.2 Missed Flight Connection * * If the Covered Person ’ s confirmed onward connecting Scheduled Flight is missed at the transfer point due to the late arrival of the Covered Person ’ s incoming confirmed connecting Scheduled Flight and no alternative onward transportation is made available to the Covered Person within four ( 4 ) hours of the actual arrival time of his incoming flight, TIGB will indemnify the actual additional expenses necessarily and reasonably incurred for Hotel accommodation and restaurant meals or refreshments, up to a maximum limit as specified in the Schedule of Benefits provided that the Covered Person shall be at the airport at the time of such missed flight connection. * * Platinum Card * * Up to RM1,000 Limit per family RM2,000 * * 2.3 Accompanied Flight Luggage Delay * * If the Covered Person ’ s accompanied check-in flight luggage is not delivered to him within six ( 6 ) hours of the Covered Person ’ s actual arrival at the abroad scheduled destination point of his Scheduled Flight, TIGB will indemnify the actual additional expenses necessarily and reasonably incurred at such abroad scheduled destination for emergency purchase of essential clothing and toiletries up to a maximum limit as specified in the Schedule of Benefits, provided that such flight luggage had been checked in by an authorised official of the air Carrier with which the Covered Person was travelling at the time of the occurrence. * * Platinum Card * * Up to RM1,000 Limit per family RM2,000 * * 2.4 Accompanied Flight Luggage Loss * * If the Covered Person ’ s accompanied check-in flight luggage is not delivered to him within forty-eight ( 48 ) hours of the Covered Person ’ s actual arrival at the abroad scheduled destination point of his Scheduled Flight such luggage will be presumed to be permanently lost and TIGB will indemnify the actual additional expenses necessarily and reasonably incurred within four ( 4 ) days at such Scheduled destination for emergency purchase of essential clothing and toiletries, up to a maximum limit as specified in the Schedule of Benefits, provided that the luggage presumed lost had been checked in by an authorised official of the airrelation to the use of the Card ( including illegal activities such as illegal online betting ) ; ( m ) if in the Bank ’ s view there is a deterioration in the Cardholder ’ s creditworthiness ; ( n ) If due to the Cardholder ’ s domicile, nationality, residency status, tax status, or any other relevant status, by allowing the Cardholder to continue to use the Card, the Bank might breach any applicable law or regulations, its internal requirement, policies or its usual business practice and procedures ; ( o ) If due to any law or change of any law or regulatory requirement ( whether or not having the force of law ), it might become unlawful or the Bank is prevented from allowing the Cardholder the continued use of the Card ; ( p ) If any regulatory authority or other fiscal or monetary authority ( whether or not having the force of law ) requests the Bank to stop the Cardholder ’ s use of the Card ; or ( q ) if suspicious or abnormal transactions are being carried out on the Card and the Bank is of the opinion that suspension and/or termination is reasonably required to prevent fraudulent or unauthorized transactions. 20.3 The Bank does not have to give any reason for withdrawing, suspending and/or cancelling the Card and/or any Card related services. 20.4 The Cardholder must pay for all transactions charged to the Card until the Bank has formally terminated or cancelled the use of the Card in its records. 20.5 Only if a Card is cancelled within three ( 3 ) months from the payment of the annual fee ( if any ) will the annual fee paid be refunded to the Cardholder on a pro-rated basis. In all other cases there shall be no refund or partial refund of any annual fees paid. 20.6 If the Card is terminated and/or suspended by the Bank pursuant to these terms and conditions, the Supplementary Card shall also be terminated and/or suspended with immediate effect. 20.7 Even though the use of the Card has been withdrawn, suspended and/or cancelled, these terms and conditions shall still apply and the Bank shall continue to impose payable facility charges ( for so long as any of the Services is available ) and/or ta'widh ( compensation ) and any other applicable fees and charges ( if any ) on all monies which remain due and unpaid and debit these monies and charges to the Card Account which the Cardholder must pay. * * Theft or Loss or Fraudulent Use of The Card and the Mobile Device * * 21.1 ( a ) Unless otherwise agreed by the Bank, the Cardholder must pay all charges incurred for goods and services and all cash advances obtained through the use of the Card. The Cardholder must take the utmost care and precaution to keep secret and secure and\n",
      "\n",
      "User Query:\n",
      " When did the last time i purchased a ticket?assistant\n",
      "\n",
      "Unfortunately, the provided text does not mention the information about when the last time the user purchased a ticket. The text appears to be a sample of a credit card agreement or terms and conditions, specifically for a Platinum Card. It outlines various benefits and conditions of the card, including flight delay, missed flight connection, luggage delay, and loss, as well as termination and suspension of the card.\n",
      "\n",
      "If you're looking for information about your recent purchases, I recommend checking your bank's online account or mobile app, or contacting their customer service directly for assistance. They should be able to provide you with information about your recent transactions, including flight bookings.\n"
     ]
    }
   ],
   "source": [
    "# Get chatbot response\n",
    "response = chat(messages)\n",
    "print(response)"
   ]
  }
 ],
 "metadata": {
  "kernelspec": {
   "display_name": "venv",
   "language": "python",
   "name": "python3"
  },
  "language_info": {
   "codemirror_mode": {
    "name": "ipython",
    "version": 3
   },
   "file_extension": ".py",
   "mimetype": "text/x-python",
   "name": "python",
   "nbconvert_exporter": "python",
   "pygments_lexer": "ipython3",
   "version": "3.12.7"
  }
 },
 "nbformat": 4,
 "nbformat_minor": 2
}
