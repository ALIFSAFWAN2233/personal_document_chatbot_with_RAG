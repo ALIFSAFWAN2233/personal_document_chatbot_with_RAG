{
 "cells": [
  {
   "cell_type": "markdown",
   "metadata": {},
   "source": [
    "# Implementation of Retrieval and Generation workflow"
   ]
  },
  {
   "cell_type": "markdown",
   "metadata": {},
   "source": [
    "### Step 1: setup the LLM model "
   ]
  },
  {
   "cell_type": "markdown",
   "metadata": {},
   "source": [
    "Criteria\n",
    "\n",
    "LLM of choice:\n",
    "1. llama 3.1/3.2\n",
    "2. deepseek r1 distill qwen 7b/ llama 8b\n",
    "\n",
    "May need to deploy the LLM online:\n",
    "1. Runpod\n",
    "2. Replicate\n",
    "3. OpenRouter"
   ]
  },
  {
   "cell_type": "code",
   "execution_count": 1,
   "metadata": {},
   "outputs": [
    {
     "name": "stderr",
     "output_type": "stream",
     "text": [
      "c:\\Users\\User\\Documents\\SideProject\\personal_document_chatbot_with_RAG\\venv\\Lib\\site-packages\\tqdm\\auto.py:21: TqdmWarning: IProgress not found. Please update jupyter and ipywidgets. See https://ipywidgets.readthedocs.io/en/stable/user_install.html\n",
      "  from .autonotebook import tqdm as notebook_tqdm\n"
     ]
    }
   ],
   "source": [
    "from transformers import AutoTokenizer, AutoModelForCausalLM\n",
    "import torch"
   ]
  },
  {
   "cell_type": "markdown",
   "metadata": {},
   "source": [
    "### Loading the model directly"
   ]
  },
  {
   "cell_type": "code",
   "execution_count": 2,
   "metadata": {},
   "outputs": [
    {
     "name": "stdout",
     "output_type": "stream",
     "text": [
      "Using device: cuda\n",
      "Loading model...\n"
     ]
    },
    {
     "name": "stderr",
     "output_type": "stream",
     "text": [
      "Loading checkpoint shards: 100%|██████████| 2/2 [00:10<00:00,  5.02s/it]\n"
     ]
    },
    {
     "name": "stdout",
     "output_type": "stream",
     "text": [
      "Model loaded successfully.\n"
     ]
    }
   ],
   "source": [
    "\n",
    "#Load model\n",
    "model_name = \"meta-llama/Llama-3.2-3B-Instruct\" #3B = 12GB\n",
    "#model_name = \"deepseek-ai/DeepSeek-R1-Distill-Llama-8B\"\n",
    "#model_name = \"deepseek-ai/DeepSeek-R1-Distill-Qwen-7B\" #7B parameter of BF16 = 13GB RAM needed # FP32 = 26GB RAM needed\n",
    "\n",
    "# Check if a GPU is available\n",
    "device = torch.device(\"cuda\" if torch.cuda.is_available() else \"cpu\")\n",
    "print(f\"Using device: {device}\")\n",
    "\n",
    "# Load model and tokenizer\n",
    "print(\"Loading model...\")\n",
    "tokenizer = AutoTokenizer.from_pretrained(model_name)\n",
    "model = AutoModelForCausalLM.from_pretrained(model_name, torch_dtype=torch.float16).to(device)\n",
    "print(\"Model loaded successfully.\")"
   ]
  },
  {
   "cell_type": "code",
   "execution_count": 16,
   "metadata": {},
   "outputs": [],
   "source": [
    "def chat(messages, max_new_tokens=256):\n",
    "\n",
    "    # Format the conversation history for llama\n",
    "    formatted_prompt = tokenizer.apply_chat_template(messages, tokenize=False, add_generation_prompt=True)\n",
    "\n",
    "    # Tokenize \n",
    "    inputs = tokenizer(formatted_prompt,return_tensors=\"pt\").to(\"cuda\")\n",
    "    # generate response\n",
    "    outputs = model.generate(**inputs, max_new_tokens=max_new_tokens)\n",
    "\n",
    "    #Decode and return only the new assistant response\n",
    "    response = tokenizer.decode(outputs[0], skip_special_tokens=True)\n",
    "    \n",
    "\n",
    "    return response"
   ]
  },
  {
   "cell_type": "code",
   "execution_count": 19,
   "metadata": {},
   "outputs": [],
   "source": [
    "# CONVERSATION HISTORY\n",
    "messages = [\n",
    "    {\"role\": \"system\", \"content\": \"You are a helpful personal assistant who knows about your user's personal documents and are responsible to summarize the documents, search for specific details from specific documents, and give helpful answers to the user.\"},\n",
    "    {\"role\": \"user\", \"content\": \"Who are you?\"},\n",
    "]"
   ]
  },
  {
   "cell_type": "code",
   "execution_count": 20,
   "metadata": {},
   "outputs": [
    {
     "name": "stderr",
     "output_type": "stream",
     "text": [
      "Setting `pad_token_id` to `eos_token_id`:128001 for open-end generation.\n"
     ]
    },
    {
     "name": "stdout",
     "output_type": "stream",
     "text": [
      "system\n",
      "\n",
      "Cutting Knowledge Date: December 2023\n",
      "Today Date: 14 Feb 2025\n",
      "\n",
      "You are a helpful personal assistant who knows about your user's personal documents and are responsible to summarize the documents, search for specific details from specific documents, and give helpful answers to the user.user\n",
      "\n",
      "Who are you?assistant\n",
      "\n",
      "I'm an AI personal assistant designed to help you with information and tasks. I have been trained on a vast amount of text data, including your personal documents, to provide you with quick and accurate answers to your questions.\n",
      "\n",
      "I can summarize documents, search for specific details, and offer helpful suggestions based on the information I have access to. I'm here to make your life easier and more productive.\n",
      "\n",
      "To get started, what would you like to do? Do you have a specific document you'd like me to summarize or search for information in?\n"
     ]
    }
   ],
   "source": [
    "# Get chatbot response\n",
    "response = chat(messages)\n",
    "print(response)"
   ]
  },
  {
   "cell_type": "code",
   "execution_count": 11,
   "metadata": {},
   "outputs": [
    {
     "name": "stderr",
     "output_type": "stream",
     "text": [
      "Setting `pad_token_id` to `eos_token_id`:128001 for open-end generation.\n"
     ]
    },
    {
     "name": "stdout",
     "output_type": "stream",
     "text": [
      "This is the response generated:  What is LLM? Do not repeat the prompt in your response. Write your answer starting here [YOUR ANSWER HERE].\n",
      "\n",
      "\n",
      "[YOUR ANSWER HERE]\n",
      "\n",
      "Large Language Models (LLMs) are a type of artificial intelligence (AI) designed to process and understand human language. These models are trained on vast amounts of text data, allowing them to learn patterns, relationships, and structures within language. As a result, LLMs can generate human-like text, respond to questions, and even engage in conversation. They are commonly used in various applications, including language translation, text summarization, and content generation. LLMs have the potential to revolutionize the way we interact with technology and access information, but they also raise concerns about their limitations, biases, and potential misuse.\n"
     ]
    }
   ],
   "source": [
    "# Tokenize the prompt and move tensors to GPU\n",
    "inputs = tokenizer(prompt, return_tensors=\"pt\").to(device)\n",
    "\n",
    "# Generate response\n",
    "outputs = model.generate(inputs[\"input_ids\"],attention_mask=inputs[\"attention_mask\"], max_length=500 ,do_sample=True, pad_token_id=tokenizer.pad_token_id)\n",
    "response = tokenizer.decode(outputs[0], skip_special_tokens=True)\n",
    "print(\"This is the response generated: \", response)"
   ]
  },
  {
   "cell_type": "markdown",
   "metadata": {},
   "source": [
    "### Step 2: Retrieval"
   ]
  },
  {
   "cell_type": "code",
   "execution_count": 1,
   "metadata": {},
   "outputs": [
    {
     "name": "stderr",
     "output_type": "stream",
     "text": [
      "c:\\Users\\User\\Documents\\SideProject\\personal_document_chatbot_with_RAG\\venv\\Lib\\site-packages\\tqdm\\auto.py:21: TqdmWarning: IProgress not found. Please update jupyter and ipywidgets. See https://ipywidgets.readthedocs.io/en/stable/user_install.html\n",
      "  from .autonotebook import tqdm as notebook_tqdm\n"
     ]
    },
    {
     "name": "stdout",
     "output_type": "stream",
     "text": [
      "{'ids': [['58c81b88-ecbe-4ddd-9600-6736008e2ab1', 'ed0f7c44-0cc4-44e3-bc49-b9d180fe1c6c', '5f083e6c-2b0a-45d3-b166-9a62000d9fd7', '72fb8831-3dd2-4cdd-ab40-0d2c2101dd2d', '8fdb1ad0-999f-4ca6-a7c7-feda8dd5d9a4']], 'embeddings': None, 'documents': [['* * 1.0 DOCUMENTATION / DOKUMENTASI * * 1.1 Definition of Customer refers to the applicant and the guarantor ( if any ) named in the Application Form upon approval of the Facility by the Bank . _Takrif bagi Pelanggan merujuk pemohon dan penjamin ( jika ada ) yang dinamakan dalam Borang Permohonan selepas Kemudahan diluluskan oleh Bank._ 1.2 The applicant and the guarantor ( if any ) named in the Application Form agrees with Affin Bank Berhad ( “ Bank ” ) that this General Terms and Conditions ( “ T & C ” ) shall be read together with the Application Form executed by the Customer and shall bind the applicant and the guarantor ( if any ) whose application for Term Loan Secured by ASB Certificate ( “ Facility ” ) has been approved by the Bank . _Pemohon dan penjamin ( jika ada ) yang dinamakan dalam Borang Permohonan bersetuju dengan Affin Bank Berhad ( “ Bank ” ) bahawa Terma dan Syarat_ _Am ( Terma & Syarat ) ini akan dibaca bersama Borang Permohonan yang dilaksanakan oleh Pelanggan dan akan mengikat pemohon dan penjamin ( jika_ _ada ) yang permohonannya untuk Pinjaman Bertempoh yang Dijamin oleh Sijil ASB ( “ Kemudahan ” ) telah diluluskan oleh Bank._ 1.3 This T & C and all other documents relating to the Facility shall form a binding agreement of this Facility . _Terma & Syarat ini dan semua dokumen lain berkaitan dengan Kemudahan akan membentuk perjanjian mengikat bagi Kemudahan ini._ 1.4 This T & C will take effect from the date this Facility is approved . _Terma & Syarat ini akan berkuat kuasa dari tarikh Kemudahan ini diluluskan._ * * 2.0 TERM LOAN FACILITY / KEMUDAHAN PINJAMAN BERTEMPOH * * 2.1 The Facility is to loan the following : _Kemudahan ini adalah sebagai pinjaman bagi perkara yang berikut : -_ 2.2 ( a ) purchase of Amanah Saham Bumiputera ( “ ASB ” ) units from Amanah Saham Nasional Berhad ( “ ASNB ” ) by Customer as stated in the Application Form or such other number of ASB units that the Customer shall be entitled to purchase as determined by ASNB . The maximum ASB units purchase amount is up to RM200,000.00 per Customer , at any one time including the balance outstanding of the existing ASB loan ( if any ) , or up to the maximum investment amount allowed by ASNB , whichever is lower ; and _pembelian unit Amanah Saham Bumiputera ( “ ASB ” ) dari Amanah Saham Nasional Berhad ( “ ASNB ” ) oleh Pelanggan sebagaimana yang_ _dinyatakan dalam Borang Permohonan atau jumlah unit ASB lain seumpamanya yang layak dibeli oleh Pelanggan seperti yang ditentukan oleh_ _ASNB . Amaun maksimum bagi unit ASB yang boleh dibeli adalah sehingga RM200,000.00 bagi setiap Pelanggan , pada satu-satu masa termasuk_ _baki yang belum dijelaskan bagi pinjaman ASB sedia ada ( jika ada ) , atau sehingga amaun pelaburan maksimum yang dibenarkan oleh ASNB , _ _mengikut mana-mana yang lebih rendah ; dan_ ( b ) Reducing', \"account . Any shortfall in the account is to be settled by the Customer . _Bank berhak membubarkan/menjual Unit ASB yang disandarkan bagi pihak Bank jika Kemudahan tertunggak selama dua ( 2 ) bulan atau lebih dan_ _hasilnya akan dikreditkan untuk melaraskan akaun pinjaman . Apa-apa kurangan dalam akaun hendaklah diselesaikan oleh Pelanggan._ * * 20.0 DEBT RECOVERY / TUNTUTAN BALIK HUTANG * * 20.1 Subject to Clause 20.2 , the Bank may contact the personal reference as stated in this application form in the event the Customer is not contactable/reachable should there is any balance shortfall after liquidation for recovery process . _Tertakluk kepada Fasal 20.2 , Bank boleh menghubungi rujukan peribadi sebagaimana yang dinyatakan dalam borang permohonan ini sekiranya_ _Pelanggan tidak dapat dihubungi jika terdapat apa-apa kurangan baki selepas pembubaran untuk proses tuntutan balik._ 20.2 The Customer confirms that by providing personal reference information in this application form , their consent has been obtained for the purpose related to or in connection with the facility under this T & C . _Pelanggan mengesahkan bahawa dengan memberikan maklumat rujukan peribadi dalam borang permohonan ini , kebenaran mereka telah diperoleh_ _bagi tujuan yang berkaitan atau berhubung dengan Kemudahan di bawah Terma & Syarat ini._ 20.3 The Bank has the right to liquidate the ASB Certificate in the event the account is in arrears of 2 months and legal action may be taken for shortfalls , if any to transfer , sell , participate in secondary debt markets or assign all or any part of its rights , benefits and obligations under this T & C and/or any security document by assigning to any other party all or any part of the Bank 's rights and benefits under this T & C and/or any security document . _Kecuali dan melainkan pindah milik dan/atau penyerahan hak menjejaskan Pelanggan , Bank berhak selepas memberikan notis kepada Pelanggan_ _untuk memindah milik , menjual , menyertai pasaran hutang sekunder atau menyerah hak semua atau mana-mana bahagian hak , manfaat dan_ _obligasinya di bawah Terma & Syarat ini dan/atau apa-apa dokumen sekuriti dengan menyerah hak kepada mana-mana pihak lain semua atau_ _mana-mana bahagian hak dan manfaat Bank di bawah Terma & Syarat ini dan/atau apa-apa dokumen sekuriti._ 21.2 The Customer may not transfer or assign any of the Customer ’ s rights , benefits and obligations under this T & C and/or any security document without the prior written consent of the Bank and any purported assignment without such consent shall be null and void . _Pelanggan tidak boleh memindah milik atau menyerah hak apa-apa hak , manfaat dan obligasi Pelanggan di bawah Terma dan Syarat ini dan/atau_ _apa-apa dokumen sekuriti tanpa mendapatkan kebenaran bertulis daripada Bank terlebih dahulu dan apa-apa penyerahan hak yang dmaksudkan itu_ _tanpa kebenaran tersebut adalah terbatal dan tidak sah._ * * 22.0 GOVERNING LAW / UNDANG-UNDANG YANG TERPAKAI * * 22.1 This T & C shall be construed and have effect in all respects in accordance with the laws of Malaysia and the Customer agrees to submit to the jurisdiction of the Malaysian\", ', restructured , renewed or supplemented from time to time by the Bank ) is upon fulfillment of the following conditions precedent and such other conditions precedent as the Bank may require upon notice to the Customer . There must also not be any material changes affecting the Customer ’ s financial condition and that none of the events set out in clause 19 of this T & C has occurred or may occur : _Penggunaan Kemudahan ( sebagaimana disemak semula , disusun semula , diperbaharui atau ditambah dari semasa ke semasa oleh Bank ) adalah_ _selepas pematuhan syarat terdahulu yang berikut dan syarat terdahulu lain seumpamanya yang mungkin dikehendaki oleh Bank selepas memberikan_ _notis kepada Pelanggan . Tidak ada juga apa-apa perubahan ketara yang menjejaskan keadaan kewangan Pelanggan dan tidak ada satu pun kejadian_ _yang dinyatakan dalam fasal 19 Terma & Syarat ini yang telah berlaku atau mungkin berlaku : _ ( a ) receipt by the Bank of a duly accepted and signed Application Form together with the relevant documents ; _Bank menerima Borang Permohonan yang diterima dan ditandatangani sewajarnya berserta dokumen yang berkaitan ; _ ( b ) receipt by the Bank of ASNB Unit Trust Financing Risk Disclosure Statement ; _Bank menerima Penyata Pendedahan Risiko Pembiayaan Unit Amanah ASNB ; _ ( c ) receipt by the Bank of any insurance policies/Letter of Acceptance issued by the Bank ’ s approved insurance company as a case may be required by the Bank , ( insurance policies shall be in form and content acceptable to the Bank and provided by insurers acceptable to the Bank ) , unless waived by the Bank ; _Bank menerima apa-apa polisi insurans/Surat Setuju Terima yang dikeluarkan oleh syarikat insurans yang diluluskan oleh Bank mengikut_ _mana-mana yang berkenaan seperti yang dikehendaki oleh Bank , ( polisi insurans hendaklah dalam bentuk dan kandungan yang boleh diterima_ _oleh Bank dan disediakan oleh penanggung insurans yang diterima oleh Bank , ) melainkan diketepikan oleh Bank ; _ ( d ) receipt by the Bank of the confirmation from ASNB regarding the Customer ’ s entitlement to purchase the relevant ASB Units ; _Bank menerima pengesahan daripada ASNB berkenaan kelayakan Pelanggan untuk membeli Unit ASB yang berkaitan ; _ ( e ) receipt by the Bank of a favorable results from searches and no negative indications from CCRIS , FIS or any other reference agencies considered necessary by the Bank ; _Bank menerima keputusan yang memuaskan daripada carian dan tiada penunjuk negatif daripada CCRIS , FIS atau mana-mana agensi rujukan lain_ _yang dianggap perlu oleh Bank ; _ ( f ) receipt by the Bank of the Processing Fee ( if applicable ) ; _Bank menerima Fi Pemprosesan ( jika berkenaan ) ; _ ( g ) the Customer is encouraged to open and maintain a Savings/Current account with the Bank . This requirement is exempted for the Bank ’ s existing account holder . The Customer is encouraged to ensure that sufficient fund is maintained in the Savings/Current account for the payment of monthly instalment under the', 'I/We propose to settle/reduce the ASB loan via the following:\\n_Saya/Kami bercadang untuk menyelesaikan/mengurangkan pinjaman melalui:_\\nWithdrawal from EPF\\n_Pengeluaran dari KWSP_\\nPension Provisions\\n_Peruntukan Pencen_\\nOthers/Lain-lain:\\nProceeds from Insurance/Takaful Policy Cash Value\\n_Hasil Tunai dari Polisi Insuran/Takaful_\\nProceeds from Investments\\n_Hasil dari Pelaburan_', 'facility ; _Pelanggan digalakkan untuk membuka dan mengekalkan akaun Simpanan/Semasa dengan Bank . Keperluan ini dikecualikan bagi pemegang_ _akaun Bank sedia ada . Pelanggan digalakkan untuk memastikan dana yang mencukupi dikekalkan dalam akaun Simpanan/Semasa bagi_ _pembayaran ansuran bulanan di bawah Kemudahan ; _ ( h ) if the RTA premium is self-financed by the Customer , the Customer is to forward written confirmation from their preferred Insurance operator with regard to RTA coverage , premium payment and enforcement of policy prior to disbursement ; _jika premium RTA dibiayai sendiri oleh Pelanggan , maka Pelanggan perlu mengemukakan pengesahan bertulis daripada pengendali Insurans_ _pilihan mereka berkenaan perlindungan RTA , pembayaran premium dan penguatkuasaan polisi sebelum pengeluaran wang ; _ ( i ) the additional conditions precedent ( if any ) shall have been satisfied and fulfilled ; and _syarat terdahulu tambahan ( jika ada ) hendaklah dipenuhi dan dipatuhi ; dan_ ( j ) Stamp Duty and ASNB Certificate fee shall be deducted from ASB loan account . _Duti Setem dan fi Sijil ASNB hendaklah ditolak daripada akaun pinjaman ASB._ 7.2 The conditions to disbursement set out in this T & C are intended for the sole benefit of the Bank and may be waived by the Bank , in whole or in part , without prejudicing the right of the Bank to assert such T & C , in whole or in part , in respect of subsequent utilisation of the Facility . _Syarat pengeluaran wang yang dinyatakan dalam Terma & Syarat ini bertujuan untuk manfaat tunggal Bank dan mungkin diketepikan oleh Bank , _ _keseluruhannya atau sebahagiannya , tanpa memudaratkan hak Bank untuk menetapkan Terma & Syarat tersebut , keseluruhannya atau sebahagiannya , _ _berhubung dengan penggunaan Kemudahan yang berikutnya._ * * 8.0 RIGHT TO REVIEW AND TERMINATE THE FACILITY / HAK UNTUK MENYEMAK SEMULA DAN MENAMATKAN KEMUDAHAN * * 8.1 The Bank reserves the right and is entitled to review the Facility at any time as the Bank considers fit . _Bank berhak dan layak untuk menyemak semula Kemudahan pada bila-bila masa seperti yang dianggap sesuai oleh Bank._ 8.2 8.3 8.4 8.5 8.6 The Bank has the right to terminate the Facility with reasonable notice . _Bank berhak menamatkan Kemudahan dengan notis sewajarnya._ The Bank shall provide at least 21 calendar days ’ prior notice to the Customer before making any changes to the T & C . _Bank hendaklah memberikan sekurang-kurangnya 21 hari kalendar notis terdahulu kepada Pelanggan sebelum membuat apa-apa perubahan_ _pada Terma & Syarat._ Notwithstanding any other provision contained in this T & C or in any other document , the Bank will at all times have the right to terminate , cancel , suspend or reduce the limit of all or any part of the Facility and/or to require immediate payment , any form of additional security and/or cash collateralisation of all or any part of the sums actually or contingently owing to it . Reasonable notice will be given by the Bank . _Dengan tidak menyentuh apa-apa peruntukan lain yang terkandung dalam Terma & Syarat ini']], 'uris': None, 'data': None, 'metadatas': None, 'distances': None, 'included': [<IncludeEnum.documents: 'documents'>]}\n"
     ]
    }
   ],
   "source": [
    "import sentence_transformers\n",
    "import chromadb\n",
    "\n",
    "model = sentence_transformers.SentenceTransformer(\"mixedbread-ai/mxbai-embed-large-v1\")\n",
    "#  Encode the query\n",
    "query = \"What is the general condition of ASB Loan\"\n",
    "query_embedding = model.encode(query)\n",
    "\n",
    "# Search the vector database \n",
    "client = chromadb.PersistentClient(path=\"C:/Users/User/Documents/SideProject/personal_document_chatbot_with_RAG/data/vectorDB\")\n",
    "collection = client.get_collection(name=\"document_collection\")\n",
    "vector_response = collection.query(\n",
    "    query_embeddings= query_embedding.tolist(),\n",
    "    n_results=5,\n",
    "    include = [\"documents\"]\n",
    ")\n",
    "print(vector_response)\n",
    "\n",
    "# give the output"
   ]
  },
  {
   "cell_type": "markdown",
   "metadata": {},
   "source": [
    "### Step 3: Send the Retrieval information and Generate Response by using LLM"
   ]
  },
  {
   "cell_type": "markdown",
   "metadata": {},
   "source": []
  }
 ],
 "metadata": {
  "kernelspec": {
   "display_name": "venv",
   "language": "python",
   "name": "python3"
  },
  "language_info": {
   "codemirror_mode": {
    "name": "ipython",
    "version": 3
   },
   "file_extension": ".py",
   "mimetype": "text/x-python",
   "name": "python",
   "nbconvert_exporter": "python",
   "pygments_lexer": "ipython3",
   "version": "3.12.7"
  }
 },
 "nbformat": 4,
 "nbformat_minor": 2
}
